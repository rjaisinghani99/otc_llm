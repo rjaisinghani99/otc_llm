{
 "cells": [
  {
   "cell_type": "code",
   "execution_count": 1,
   "metadata": {},
   "outputs": [],
   "source": [
    "import pandas as pd\n",
    "import numpy as np\n",
    "import random\n",
    "from matplotlib import pyplot as plt\n",
    "from upsetplot import plot\n",
    "import tiktoken\n",
    "import torch"
   ]
  },
  {
   "cell_type": "code",
   "execution_count": null,
   "metadata": {},
   "outputs": [
    {
     "ename": "OSError",
     "evalue": "Cannot save file into a non-existent directory: 'E:/EntroLLM'",
     "output_type": "error",
     "traceback": [
      "\u001b[0;31m---------------------------------------------------------------------------\u001b[0m",
      "\u001b[0;31mOSError\u001b[0m                                   Traceback (most recent call last)",
      "Cell \u001b[0;32mIn[6], line 117\u001b[0m\n\u001b[1;32m    105\u001b[0m wide \u001b[38;5;241m=\u001b[39m (\n\u001b[1;32m    106\u001b[0m     data\u001b[38;5;241m.\u001b[39mdrop(columns\u001b[38;5;241m=\u001b[39m[\u001b[38;5;124m\"\u001b[39m\u001b[38;5;124mBMXBMI\u001b[39m\u001b[38;5;124m\"\u001b[39m,\u001b[38;5;124m\"\u001b[39m\u001b[38;5;124mintensity\u001b[39m\u001b[38;5;124m\"\u001b[39m])\n\u001b[1;32m    107\u001b[0m         \u001b[38;5;241m.\u001b[39mpivot_table(\n\u001b[0;32m   (...)\u001b[0m\n\u001b[1;32m    113\u001b[0m         \u001b[38;5;241m.\u001b[39mreset_index()\n\u001b[1;32m    114\u001b[0m )\n\u001b[1;32m    116\u001b[0m \u001b[38;5;66;03m# save\u001b[39;00m\n\u001b[0;32m--> 117\u001b[0m \u001b[43mwide\u001b[49m\u001b[38;5;241;43m.\u001b[39;49m\u001b[43mto_csv\u001b[49m\u001b[43m(\u001b[49m\u001b[38;5;124;43m\"\u001b[39;49m\u001b[38;5;124;43mE:/EntroLLM/data_wide.csv\u001b[39;49m\u001b[38;5;124;43m\"\u001b[39;49m\u001b[43m,\u001b[49m\u001b[43m \u001b[49m\u001b[43mindex\u001b[49m\u001b[38;5;241;43m=\u001b[39;49m\u001b[38;5;28;43;01mFalse\u001b[39;49;00m\u001b[43m)\u001b[49m\n",
      "File \u001b[0;32m/Library/Frameworks/Python.framework/Versions/3.11/lib/python3.11/site-packages/pandas/util/_decorators.py:333\u001b[0m, in \u001b[0;36mdeprecate_nonkeyword_arguments.<locals>.decorate.<locals>.wrapper\u001b[0;34m(*args, **kwargs)\u001b[0m\n\u001b[1;32m    327\u001b[0m \u001b[38;5;28;01mif\u001b[39;00m \u001b[38;5;28mlen\u001b[39m(args) \u001b[38;5;241m>\u001b[39m num_allow_args:\n\u001b[1;32m    328\u001b[0m     warnings\u001b[38;5;241m.\u001b[39mwarn(\n\u001b[1;32m    329\u001b[0m         msg\u001b[38;5;241m.\u001b[39mformat(arguments\u001b[38;5;241m=\u001b[39m_format_argument_list(allow_args)),\n\u001b[1;32m    330\u001b[0m         \u001b[38;5;167;01mFutureWarning\u001b[39;00m,\n\u001b[1;32m    331\u001b[0m         stacklevel\u001b[38;5;241m=\u001b[39mfind_stack_level(),\n\u001b[1;32m    332\u001b[0m     )\n\u001b[0;32m--> 333\u001b[0m \u001b[38;5;28;01mreturn\u001b[39;00m \u001b[43mfunc\u001b[49m\u001b[43m(\u001b[49m\u001b[38;5;241;43m*\u001b[39;49m\u001b[43margs\u001b[49m\u001b[43m,\u001b[49m\u001b[43m \u001b[49m\u001b[38;5;241;43m*\u001b[39;49m\u001b[38;5;241;43m*\u001b[39;49m\u001b[43mkwargs\u001b[49m\u001b[43m)\u001b[49m\n",
      "File \u001b[0;32m/Library/Frameworks/Python.framework/Versions/3.11/lib/python3.11/site-packages/pandas/core/generic.py:3967\u001b[0m, in \u001b[0;36mNDFrame.to_csv\u001b[0;34m(self, path_or_buf, sep, na_rep, float_format, columns, header, index, index_label, mode, encoding, compression, quoting, quotechar, lineterminator, chunksize, date_format, doublequote, escapechar, decimal, errors, storage_options)\u001b[0m\n\u001b[1;32m   3956\u001b[0m df \u001b[38;5;241m=\u001b[39m \u001b[38;5;28mself\u001b[39m \u001b[38;5;28;01mif\u001b[39;00m \u001b[38;5;28misinstance\u001b[39m(\u001b[38;5;28mself\u001b[39m, ABCDataFrame) \u001b[38;5;28;01melse\u001b[39;00m \u001b[38;5;28mself\u001b[39m\u001b[38;5;241m.\u001b[39mto_frame()\n\u001b[1;32m   3958\u001b[0m formatter \u001b[38;5;241m=\u001b[39m DataFrameFormatter(\n\u001b[1;32m   3959\u001b[0m     frame\u001b[38;5;241m=\u001b[39mdf,\n\u001b[1;32m   3960\u001b[0m     header\u001b[38;5;241m=\u001b[39mheader,\n\u001b[0;32m   (...)\u001b[0m\n\u001b[1;32m   3964\u001b[0m     decimal\u001b[38;5;241m=\u001b[39mdecimal,\n\u001b[1;32m   3965\u001b[0m )\n\u001b[0;32m-> 3967\u001b[0m \u001b[38;5;28;01mreturn\u001b[39;00m \u001b[43mDataFrameRenderer\u001b[49m\u001b[43m(\u001b[49m\u001b[43mformatter\u001b[49m\u001b[43m)\u001b[49m\u001b[38;5;241;43m.\u001b[39;49m\u001b[43mto_csv\u001b[49m\u001b[43m(\u001b[49m\n\u001b[1;32m   3968\u001b[0m \u001b[43m    \u001b[49m\u001b[43mpath_or_buf\u001b[49m\u001b[43m,\u001b[49m\n\u001b[1;32m   3969\u001b[0m \u001b[43m    \u001b[49m\u001b[43mlineterminator\u001b[49m\u001b[38;5;241;43m=\u001b[39;49m\u001b[43mlineterminator\u001b[49m\u001b[43m,\u001b[49m\n\u001b[1;32m   3970\u001b[0m \u001b[43m    \u001b[49m\u001b[43msep\u001b[49m\u001b[38;5;241;43m=\u001b[39;49m\u001b[43msep\u001b[49m\u001b[43m,\u001b[49m\n\u001b[1;32m   3971\u001b[0m \u001b[43m    \u001b[49m\u001b[43mencoding\u001b[49m\u001b[38;5;241;43m=\u001b[39;49m\u001b[43mencoding\u001b[49m\u001b[43m,\u001b[49m\n\u001b[1;32m   3972\u001b[0m \u001b[43m    \u001b[49m\u001b[43merrors\u001b[49m\u001b[38;5;241;43m=\u001b[39;49m\u001b[43merrors\u001b[49m\u001b[43m,\u001b[49m\n\u001b[1;32m   3973\u001b[0m \u001b[43m    \u001b[49m\u001b[43mcompression\u001b[49m\u001b[38;5;241;43m=\u001b[39;49m\u001b[43mcompression\u001b[49m\u001b[43m,\u001b[49m\n\u001b[1;32m   3974\u001b[0m \u001b[43m    \u001b[49m\u001b[43mquoting\u001b[49m\u001b[38;5;241;43m=\u001b[39;49m\u001b[43mquoting\u001b[49m\u001b[43m,\u001b[49m\n\u001b[1;32m   3975\u001b[0m \u001b[43m    \u001b[49m\u001b[43mcolumns\u001b[49m\u001b[38;5;241;43m=\u001b[39;49m\u001b[43mcolumns\u001b[49m\u001b[43m,\u001b[49m\n\u001b[1;32m   3976\u001b[0m \u001b[43m    \u001b[49m\u001b[43mindex_label\u001b[49m\u001b[38;5;241;43m=\u001b[39;49m\u001b[43mindex_label\u001b[49m\u001b[43m,\u001b[49m\n\u001b[1;32m   3977\u001b[0m \u001b[43m    \u001b[49m\u001b[43mmode\u001b[49m\u001b[38;5;241;43m=\u001b[39;49m\u001b[43mmode\u001b[49m\u001b[43m,\u001b[49m\n\u001b[1;32m   3978\u001b[0m \u001b[43m    \u001b[49m\u001b[43mchunksize\u001b[49m\u001b[38;5;241;43m=\u001b[39;49m\u001b[43mchunksize\u001b[49m\u001b[43m,\u001b[49m\n\u001b[1;32m   3979\u001b[0m \u001b[43m    \u001b[49m\u001b[43mquotechar\u001b[49m\u001b[38;5;241;43m=\u001b[39;49m\u001b[43mquotechar\u001b[49m\u001b[43m,\u001b[49m\n\u001b[1;32m   3980\u001b[0m \u001b[43m    \u001b[49m\u001b[43mdate_format\u001b[49m\u001b[38;5;241;43m=\u001b[39;49m\u001b[43mdate_format\u001b[49m\u001b[43m,\u001b[49m\n\u001b[1;32m   3981\u001b[0m \u001b[43m    \u001b[49m\u001b[43mdoublequote\u001b[49m\u001b[38;5;241;43m=\u001b[39;49m\u001b[43mdoublequote\u001b[49m\u001b[43m,\u001b[49m\n\u001b[1;32m   3982\u001b[0m \u001b[43m    \u001b[49m\u001b[43mescapechar\u001b[49m\u001b[38;5;241;43m=\u001b[39;49m\u001b[43mescapechar\u001b[49m\u001b[43m,\u001b[49m\n\u001b[1;32m   3983\u001b[0m \u001b[43m    \u001b[49m\u001b[43mstorage_options\u001b[49m\u001b[38;5;241;43m=\u001b[39;49m\u001b[43mstorage_options\u001b[49m\u001b[43m,\u001b[49m\n\u001b[1;32m   3984\u001b[0m \u001b[43m\u001b[49m\u001b[43m)\u001b[49m\n",
      "File \u001b[0;32m/Library/Frameworks/Python.framework/Versions/3.11/lib/python3.11/site-packages/pandas/io/formats/format.py:1014\u001b[0m, in \u001b[0;36mDataFrameRenderer.to_csv\u001b[0;34m(self, path_or_buf, encoding, sep, columns, index_label, mode, compression, quoting, quotechar, lineterminator, chunksize, date_format, doublequote, escapechar, errors, storage_options)\u001b[0m\n\u001b[1;32m    993\u001b[0m     created_buffer \u001b[38;5;241m=\u001b[39m \u001b[38;5;28;01mFalse\u001b[39;00m\n\u001b[1;32m    995\u001b[0m csv_formatter \u001b[38;5;241m=\u001b[39m CSVFormatter(\n\u001b[1;32m    996\u001b[0m     path_or_buf\u001b[38;5;241m=\u001b[39mpath_or_buf,\n\u001b[1;32m    997\u001b[0m     lineterminator\u001b[38;5;241m=\u001b[39mlineterminator,\n\u001b[0;32m   (...)\u001b[0m\n\u001b[1;32m   1012\u001b[0m     formatter\u001b[38;5;241m=\u001b[39m\u001b[38;5;28mself\u001b[39m\u001b[38;5;241m.\u001b[39mfmt,\n\u001b[1;32m   1013\u001b[0m )\n\u001b[0;32m-> 1014\u001b[0m \u001b[43mcsv_formatter\u001b[49m\u001b[38;5;241;43m.\u001b[39;49m\u001b[43msave\u001b[49m\u001b[43m(\u001b[49m\u001b[43m)\u001b[49m\n\u001b[1;32m   1016\u001b[0m \u001b[38;5;28;01mif\u001b[39;00m created_buffer:\n\u001b[1;32m   1017\u001b[0m     \u001b[38;5;28;01massert\u001b[39;00m \u001b[38;5;28misinstance\u001b[39m(path_or_buf, StringIO)\n",
      "File \u001b[0;32m/Library/Frameworks/Python.framework/Versions/3.11/lib/python3.11/site-packages/pandas/io/formats/csvs.py:251\u001b[0m, in \u001b[0;36mCSVFormatter.save\u001b[0;34m(self)\u001b[0m\n\u001b[1;32m    247\u001b[0m \u001b[38;5;250m\u001b[39m\u001b[38;5;124;03m\"\"\"\u001b[39;00m\n\u001b[1;32m    248\u001b[0m \u001b[38;5;124;03mCreate the writer & save.\u001b[39;00m\n\u001b[1;32m    249\u001b[0m \u001b[38;5;124;03m\"\"\"\u001b[39;00m\n\u001b[1;32m    250\u001b[0m \u001b[38;5;66;03m# apply compression and byte/text conversion\u001b[39;00m\n\u001b[0;32m--> 251\u001b[0m \u001b[38;5;28;01mwith\u001b[39;00m \u001b[43mget_handle\u001b[49m\u001b[43m(\u001b[49m\n\u001b[1;32m    252\u001b[0m \u001b[43m    \u001b[49m\u001b[38;5;28;43mself\u001b[39;49m\u001b[38;5;241;43m.\u001b[39;49m\u001b[43mfilepath_or_buffer\u001b[49m\u001b[43m,\u001b[49m\n\u001b[1;32m    253\u001b[0m \u001b[43m    \u001b[49m\u001b[38;5;28;43mself\u001b[39;49m\u001b[38;5;241;43m.\u001b[39;49m\u001b[43mmode\u001b[49m\u001b[43m,\u001b[49m\n\u001b[1;32m    254\u001b[0m \u001b[43m    \u001b[49m\u001b[43mencoding\u001b[49m\u001b[38;5;241;43m=\u001b[39;49m\u001b[38;5;28;43mself\u001b[39;49m\u001b[38;5;241;43m.\u001b[39;49m\u001b[43mencoding\u001b[49m\u001b[43m,\u001b[49m\n\u001b[1;32m    255\u001b[0m \u001b[43m    \u001b[49m\u001b[43merrors\u001b[49m\u001b[38;5;241;43m=\u001b[39;49m\u001b[38;5;28;43mself\u001b[39;49m\u001b[38;5;241;43m.\u001b[39;49m\u001b[43merrors\u001b[49m\u001b[43m,\u001b[49m\n\u001b[1;32m    256\u001b[0m \u001b[43m    \u001b[49m\u001b[43mcompression\u001b[49m\u001b[38;5;241;43m=\u001b[39;49m\u001b[38;5;28;43mself\u001b[39;49m\u001b[38;5;241;43m.\u001b[39;49m\u001b[43mcompression\u001b[49m\u001b[43m,\u001b[49m\n\u001b[1;32m    257\u001b[0m \u001b[43m    \u001b[49m\u001b[43mstorage_options\u001b[49m\u001b[38;5;241;43m=\u001b[39;49m\u001b[38;5;28;43mself\u001b[39;49m\u001b[38;5;241;43m.\u001b[39;49m\u001b[43mstorage_options\u001b[49m\u001b[43m,\u001b[49m\n\u001b[1;32m    258\u001b[0m \u001b[43m\u001b[49m\u001b[43m)\u001b[49m \u001b[38;5;28;01mas\u001b[39;00m handles:\n\u001b[1;32m    259\u001b[0m     \u001b[38;5;66;03m# Note: self.encoding is irrelevant here\u001b[39;00m\n\u001b[1;32m    260\u001b[0m     \u001b[38;5;28mself\u001b[39m\u001b[38;5;241m.\u001b[39mwriter \u001b[38;5;241m=\u001b[39m csvlib\u001b[38;5;241m.\u001b[39mwriter(\n\u001b[1;32m    261\u001b[0m         handles\u001b[38;5;241m.\u001b[39mhandle,\n\u001b[1;32m    262\u001b[0m         lineterminator\u001b[38;5;241m=\u001b[39m\u001b[38;5;28mself\u001b[39m\u001b[38;5;241m.\u001b[39mlineterminator,\n\u001b[0;32m   (...)\u001b[0m\n\u001b[1;32m    267\u001b[0m         quotechar\u001b[38;5;241m=\u001b[39m\u001b[38;5;28mself\u001b[39m\u001b[38;5;241m.\u001b[39mquotechar,\n\u001b[1;32m    268\u001b[0m     )\n\u001b[1;32m    270\u001b[0m     \u001b[38;5;28mself\u001b[39m\u001b[38;5;241m.\u001b[39m_save()\n",
      "File \u001b[0;32m/Library/Frameworks/Python.framework/Versions/3.11/lib/python3.11/site-packages/pandas/io/common.py:749\u001b[0m, in \u001b[0;36mget_handle\u001b[0;34m(path_or_buf, mode, encoding, compression, memory_map, is_text, errors, storage_options)\u001b[0m\n\u001b[1;32m    747\u001b[0m \u001b[38;5;66;03m# Only for write methods\u001b[39;00m\n\u001b[1;32m    748\u001b[0m \u001b[38;5;28;01mif\u001b[39;00m \u001b[38;5;124m\"\u001b[39m\u001b[38;5;124mr\u001b[39m\u001b[38;5;124m\"\u001b[39m \u001b[38;5;129;01mnot\u001b[39;00m \u001b[38;5;129;01min\u001b[39;00m mode \u001b[38;5;129;01mand\u001b[39;00m is_path:\n\u001b[0;32m--> 749\u001b[0m     \u001b[43mcheck_parent_directory\u001b[49m\u001b[43m(\u001b[49m\u001b[38;5;28;43mstr\u001b[39;49m\u001b[43m(\u001b[49m\u001b[43mhandle\u001b[49m\u001b[43m)\u001b[49m\u001b[43m)\u001b[49m\n\u001b[1;32m    751\u001b[0m \u001b[38;5;28;01mif\u001b[39;00m compression:\n\u001b[1;32m    752\u001b[0m     \u001b[38;5;28;01mif\u001b[39;00m compression \u001b[38;5;241m!=\u001b[39m \u001b[38;5;124m\"\u001b[39m\u001b[38;5;124mzstd\u001b[39m\u001b[38;5;124m\"\u001b[39m:\n\u001b[1;32m    753\u001b[0m         \u001b[38;5;66;03m# compression libraries do not like an explicit text-mode\u001b[39;00m\n",
      "File \u001b[0;32m/Library/Frameworks/Python.framework/Versions/3.11/lib/python3.11/site-packages/pandas/io/common.py:616\u001b[0m, in \u001b[0;36mcheck_parent_directory\u001b[0;34m(path)\u001b[0m\n\u001b[1;32m    614\u001b[0m parent \u001b[38;5;241m=\u001b[39m Path(path)\u001b[38;5;241m.\u001b[39mparent\n\u001b[1;32m    615\u001b[0m \u001b[38;5;28;01mif\u001b[39;00m \u001b[38;5;129;01mnot\u001b[39;00m parent\u001b[38;5;241m.\u001b[39mis_dir():\n\u001b[0;32m--> 616\u001b[0m     \u001b[38;5;28;01mraise\u001b[39;00m \u001b[38;5;167;01mOSError\u001b[39;00m(\u001b[38;5;124mrf\u001b[39m\u001b[38;5;124m\"\u001b[39m\u001b[38;5;124mCannot save file into a non-existent directory: \u001b[39m\u001b[38;5;124m'\u001b[39m\u001b[38;5;132;01m{\u001b[39;00mparent\u001b[38;5;132;01m}\u001b[39;00m\u001b[38;5;124m'\u001b[39m\u001b[38;5;124m\"\u001b[39m)\n",
      "\u001b[0;31mOSError\u001b[0m: Cannot save file into a non-existent directory: 'E:/EntroLLM'"
     ]
    }
   ],
   "source": [
    "bmx_d1 = (\n",
    "    pd.read_csv(\"/Users/rheajaisinghani/Desktop/OTC/NHANES Data/BMX_C.csv\")\n",
    "      .dropna(subset=[\"BMXBMI\"])[[\"SEQN\", \"BMXBMI\"]]\n",
    ")\n",
    "\n",
    "demo_d1 = (\n",
    "    pd.read_csv(\"/Users/rheajaisinghani/Desktop/OTC/NHANES Data/DEMO_C.csv\")\n",
    "      .query(\n",
    "         \"RIDAGEYR >= 20 and RIDAGEYR < 85 \"\n",
    "         \"and DMDMARTL not in [77,99] \"\n",
    "         \"and (RIDEXPRG in [2,3] or RIDEXPRG.isna()) \"\n",
    "         \"and DMDEDUC2 not in [7,9]\"\n",
    "      )\n",
    "      .dropna(subset=[\n",
    "         \"SEQN\",\"RIAGENDR\",\"RIDAGEYR\",\n",
    "         \"RIDRETH1\",\"DMDEDUC2\",\"DMDMARTL\",\"INDFMPIR\"\n",
    "      ])\n",
    "      [[\"SEQN\",\"RIAGENDR\",\"RIDAGEYR\",\n",
    "        \"RIDRETH1\",\"DMDEDUC2\",\"DMDMARTL\",\"INDFMPIR\"]]\n",
    ")\n",
    "\n",
    "paxraw_d1 = (\n",
    "    pd.read_csv(\"/Users/rheajaisinghani/Desktop/OTC/NHANES Data/paxraw_c.csv\")\n",
    "      .query(\"PAXSTAT == 1 and PAXCAL == 1\")\n",
    "      .dropna(subset=[\"PAXINTEN\"])\n",
    "      [[\"SEQN\",\"PAXN\",\"PAXINTEN\"]]\n",
    ")\n",
    "\n",
    "# NHANES 2005–2006\n",
    "bmx_d2 = (\n",
    "    pd.read_csv(\"/Users/rheajaisinghani/Desktop/OTC/NHANES Data/BMX_D.csv\")\n",
    "      .dropna(subset=[\"BMXBMI\"])[[\"SEQN\",\"BMXBMI\"]]\n",
    ")\n",
    "\n",
    "demo_d2 = (\n",
    "    pd.read_csv(\"/Users/rheajaisinghani/Desktop/OTC/NHANES Data/DEMO_D.csv\")\n",
    "      .query(\n",
    "         \"RIDAGEYR >= 20 and RIDAGEYR < 85 \"\n",
    "         \"and DMDMARTL not in [77,99] \"\n",
    "         \"and (RIDEXPRG in [2,3] or RIDEXPRG.isna()) \"\n",
    "         \"and DMDEDUC2 not in [7,9]\"\n",
    "      )\n",
    "      .dropna(subset=[\n",
    "         \"SEQN\",\"RIAGENDR\",\"RIDAGEYR\",\n",
    "         \"RIDRETH1\",\"DMDEDUC2\",\"DMDMARTL\",\"INDFMPIR\"\n",
    "      ])\n",
    "      [[\"SEQN\",\"RIAGENDR\",\"RIDAGEYR\",\n",
    "        \"RIDRETH1\",\"DMDEDUC2\",\"DMDMARTL\",\"INDFMPIR\"]]\n",
    ")\n",
    "\n",
    "paxraw_d2 = (\n",
    "    pd.read_csv(\"/Users/rheajaisinghani/Desktop/OTC/NHANES Data/paxraw_d.csv\")\n",
    "      .query(\"PAXSTAT == 1 and PAXCAL == 1\")\n",
    "      .dropna(subset=[\"PAXINTEN\"])\n",
    "      [[\"SEQN\",\"PAXN\",\"PAXINTEN\"]]\n",
    ")\n",
    "\n",
    "# Drop subjects missing a full week\n",
    "full_week = 24 * 60 * 7\n",
    "\n",
    "missing1 = paxraw_d1.groupby(\"SEQN\").size().loc[lambda s: s != full_week].index\n",
    "missing2 = paxraw_d2.groupby(\"SEQN\").size().loc[lambda s: s != full_week].index\n",
    "\n",
    "def preprocess_pax(paxraw, missing_seqn, bmx, demo):\n",
    "    df = (\n",
    "        paxraw.assign(min5 = ((paxraw.PAXN - 1) // 5) + 1)\n",
    "              .groupby([\"SEQN\",\"min5\"], as_index=False)[\"PAXINTEN\"]\n",
    "              .mean()\n",
    "              .rename(columns={\"PAXINTEN\":\"intensity\"})\n",
    "    )\n",
    "    df = df[~df.SEQN.isin(missing_seqn)]\n",
    "    return df.merge(bmx, on=\"SEQN\").merge(demo, on=\"SEQN\")\n",
    "\n",
    "data1 = preprocess_pax(paxraw_d1, missing1, bmx_d1, demo_d1)\n",
    "data2 = preprocess_pax(paxraw_d2, missing2, bmx_d2, demo_d2)\n",
    "\n",
    "data = pd.concat([data1, data2], ignore_index=True)\n",
    "\n",
    "# rename columns\n",
    "data = data.rename(columns={\n",
    "    \"min5\":\"Time\", \"RIAGENDR\":\"Gender\", \"RIDAGEYR\":\"Age\",\n",
    "    \"RIDRETH1\":\"Race\", \"DMDEDUC2\":\"Education\",\n",
    "    \"DMDMARTL\":\"Married\", \"INDFMPIR\":\"PIR\"\n",
    "})\n",
    "\n",
    "data[\"BMI\"] = (data.BMXBMI >= 25).astype(int)\n",
    "\n",
    "# PA categories\n",
    "conds = [\n",
    "    data.intensity < 100,\n",
    "    data.intensity < 760,\n",
    "    data.intensity < 2200,\n",
    "    data.intensity < 6000,\n",
    "]\n",
    "choices = [0,1,2,3]\n",
    "data[\"PA\"] = np.select(conds, choices, default=4)\n",
    "\n",
    "# pivot to wide\n",
    "wide = (\n",
    "    data.drop(columns=[\"BMXBMI\",\"intensity\"])\n",
    "        .pivot_table(\n",
    "            index=[\"SEQN\",\"BMI\",\"Gender\",\"Age\",\"Race\",\"Education\",\"Married\",\"PIR\"],\n",
    "            columns=\"Time\",\n",
    "            values=\"PA\"\n",
    "        )\n",
    "        .add_prefix(\"Time\")\n",
    "        .reset_index()\n",
    ")"
   ]
  },
  {
   "cell_type": "code",
   "execution_count": null,
   "metadata": {},
   "outputs": [],
   "source": [
    "df = pd.read_csv(\"/Users/rheajaisinghani/Desktop/OTC/data_wide.csv\", index_col=0)"
   ]
  },
  {
   "cell_type": "code",
   "execution_count": 25,
   "metadata": {},
   "outputs": [
    {
     "name": "stderr",
     "output_type": "stream",
     "text": [
      "/var/folders/dz/ggx10pdx1p91s2hsnvsw_sy40000gn/T/ipykernel_45009/2610889962.py:9: PerformanceWarning: DataFrame is highly fragmented.  This is usually the result of calling `frame.insert` many times, which has poor performance.  Consider joining all columns at once using pd.concat(axis=1) instead. To get a de-fragmented frame, use `newframe = frame.copy()`\n",
      "  df['combined'] = df.apply(combine, axis=1)\n"
     ]
    }
   ],
   "source": [
    "time_columns = [col for col in df.columns if col.startswith('Time')]\n",
    "\n",
    "df[time_columns] = df[time_columns].astype(str)\n",
    "\n",
    "def combine(row):\n",
    "    combined_values = ' '.join(row[col] for col in time_columns)\n",
    "    return combined_values\n",
    "\n",
    "df['combined'] = df.apply(combine, axis=1)"
   ]
  },
  {
   "cell_type": "code",
   "execution_count": 28,
   "metadata": {},
   "outputs": [
    {
     "name": "stderr",
     "output_type": "stream",
     "text": [
      "/var/folders/dz/ggx10pdx1p91s2hsnvsw_sy40000gn/T/ipykernel_45009/3824746441.py:3: PerformanceWarning: DataFrame is highly fragmented.  This is usually the result of calling `frame.insert` many times, which has poor performance.  Consider joining all columns at once using pd.concat(axis=1) instead. To get a de-fragmented frame, use `newframe = frame.copy()`\n",
      "  df[\"n_tokens\"] = df.combined.apply(lambda x: len(encoding.encode(x)))\n"
     ]
    }
   ],
   "source": [
    "embedding_encoding = \"cl100k_base\"\n",
    "encoding = tiktoken.get_encoding(embedding_encoding)\n",
    "df[\"n_tokens\"] = df.combined.apply(lambda x: len(encoding.encode(x)))"
   ]
  },
  {
   "cell_type": "code",
   "execution_count": 30,
   "metadata": {},
   "outputs": [],
   "source": [
    "df = df.drop(columns=[col for col in df.columns if col.startswith('Time')])"
   ]
  },
  {
   "cell_type": "code",
   "execution_count": 34,
   "metadata": {},
   "outputs": [],
   "source": [
    "df = df.reset_index()"
   ]
  },
  {
   "cell_type": "code",
   "execution_count": 49,
   "metadata": {},
   "outputs": [],
   "source": [
    "def get_embedding(text, model=\"text-embedding-3-small\"):\n",
    "   text = text.replace(\"\\n\", \" \")\n",
    "   return client.embeddings.create(input = [text], model=model).data[ 0].embedding\n",
    "\n",
    "embedding_model = \"text-embedding-3-small\"\n",
    "embedding_encoding = \"cl100k_base\"\n",
    "max_tokens = 8191  # the maximum for text-embedding-3-small is 8191\n",
    "\n",
    "df_gpt=df.copy()\n",
    "df_gpt[\"embedding\"] = df_gpt.combined.apply(lambda x: get_embedding(x, model=embedding_model))\n",
    "df_gpt.to_csv(\"/Users/rheajaisinghani/Desktop/OTC/data_wide_embedding_gpt1536.csv\")\n",
    " \n",
    "# df_gpt = df_gpt[[col for col in df.columns if not col.startswith('n_tokens') and not col.startswith('Time')]]"
   ]
  },
  {
   "cell_type": "code",
   "execution_count": 54,
   "metadata": {},
   "outputs": [],
   "source": [
    "df = pd.read_csv(\"/Users/rheajaisinghani/Desktop/OTC/data_wide_embedding_gpt1536.csv\")"
   ]
  },
  {
   "cell_type": "code",
   "execution_count": 57,
   "metadata": {},
   "outputs": [],
   "source": [
    "# Read in the CSV and drop the unwanted columns\n",
    "df = df.drop(columns=[\"combined\", 'n_tokens', 'Unnamed: 0'])\n",
    "\n",
    "# Remove leading “[\" and trailing “]” from the embedding string\n",
    "df[\"embedding\"] = df[\"embedding\"].str.replace(r\"[\\[\\]]\", \"\", regex=True)\n",
    "\n",
    "# Split the embedding into 1,536 separate columns named var1…var1536\n",
    "emb_cols = [f\"var{i}\" for i in range(1, 1537)]\n",
    "emb_df = (\n",
    "    df[\"embedding\"]\n",
    "      .str\n",
    "      .split(r\",\\s*\", expand=True)\n",
    "      .rename(columns=dict(enumerate(emb_cols, start=0)))\n",
    "      .astype(float)\n",
    ")\n",
    "\n",
    "# Drop the original embedding column and concat the new numeric columns\n",
    "df = pd.concat([df.drop(columns=[\"embedding\"]), emb_df], axis=1)\n",
    "\n",
    "# Ensure these demographic columns are strings (object dtype)\n",
    "for col in [\"Gender\", \"Race\", \"Education\", \"Married\"]:\n",
    "    df[col] = df[col].astype(str)"
   ]
  },
  {
   "cell_type": "code",
   "execution_count": 59,
   "metadata": {},
   "outputs": [],
   "source": [
    "df.to_csv(\"/Users/rheajaisinghani/Desktop/OTC/data_wide_embedding_gpt1536_clean.csv\")"
   ]
  },
  {
   "cell_type": "code",
   "execution_count": 42,
   "metadata": {},
   "outputs": [],
   "source": [
    "gpt50 = pd.read_csv(\"/Users/rheajaisinghani/Desktop/OTC/Embeddings/data_wide_embedding_gpt50.csv\")\n",
    "#gpt1536 = pd.read_csv(\"/Users/rheajaisinghani/Desktop/OTC/Embeddings/data_wide_embedding_gpt1536.csv\")"
   ]
  },
  {
   "cell_type": "code",
   "execution_count": 2,
   "metadata": {},
   "outputs": [
    {
     "ename": "ParserError",
     "evalue": "Error tokenizing data. C error: Calling read(nbytes) on source failed. Try engine='python'.",
     "output_type": "error",
     "traceback": [
      "\u001b[0;31m---------------------------------------------------------------------------\u001b[0m",
      "\u001b[0;31mParserError\u001b[0m                               Traceback (most recent call last)",
      "Cell \u001b[0;32mIn[2], line 2\u001b[0m\n\u001b[1;32m      1\u001b[0m \u001b[38;5;66;03m# Bring in activity data\u001b[39;00m\n\u001b[0;32m----> 2\u001b[0m activity1 \u001b[38;5;241m=\u001b[39m \u001b[43mpd\u001b[49m\u001b[38;5;241;43m.\u001b[39;49m\u001b[43mread_csv\u001b[49m\u001b[43m(\u001b[49m\u001b[38;5;124;43m\"\u001b[39;49m\u001b[38;5;124;43m/Users/rheajaisinghani/Desktop/OTC/NHANES Data/paxraw_d.csv\u001b[39;49m\u001b[38;5;124;43m\"\u001b[39;49m\u001b[43m)\u001b[49m\n\u001b[1;32m      3\u001b[0m activity2 \u001b[38;5;241m=\u001b[39m pd\u001b[38;5;241m.\u001b[39mread_csv(\u001b[38;5;124m\"\u001b[39m\u001b[38;5;124m/Users/rheajaisinghani/Desktop/OTC/NHANES Data/paxraw_c.csv\u001b[39m\u001b[38;5;124m\"\u001b[39m)\n",
      "File \u001b[0;32m/Library/Frameworks/Python.framework/Versions/3.11/lib/python3.11/site-packages/pandas/io/parsers/readers.py:1026\u001b[0m, in \u001b[0;36mread_csv\u001b[0;34m(filepath_or_buffer, sep, delimiter, header, names, index_col, usecols, dtype, engine, converters, true_values, false_values, skipinitialspace, skiprows, skipfooter, nrows, na_values, keep_default_na, na_filter, verbose, skip_blank_lines, parse_dates, infer_datetime_format, keep_date_col, date_parser, date_format, dayfirst, cache_dates, iterator, chunksize, compression, thousands, decimal, lineterminator, quotechar, quoting, doublequote, escapechar, comment, encoding, encoding_errors, dialect, on_bad_lines, delim_whitespace, low_memory, memory_map, float_precision, storage_options, dtype_backend)\u001b[0m\n\u001b[1;32m   1013\u001b[0m kwds_defaults \u001b[38;5;241m=\u001b[39m _refine_defaults_read(\n\u001b[1;32m   1014\u001b[0m     dialect,\n\u001b[1;32m   1015\u001b[0m     delimiter,\n\u001b[0;32m   (...)\u001b[0m\n\u001b[1;32m   1022\u001b[0m     dtype_backend\u001b[38;5;241m=\u001b[39mdtype_backend,\n\u001b[1;32m   1023\u001b[0m )\n\u001b[1;32m   1024\u001b[0m kwds\u001b[38;5;241m.\u001b[39mupdate(kwds_defaults)\n\u001b[0;32m-> 1026\u001b[0m \u001b[38;5;28;01mreturn\u001b[39;00m \u001b[43m_read\u001b[49m\u001b[43m(\u001b[49m\u001b[43mfilepath_or_buffer\u001b[49m\u001b[43m,\u001b[49m\u001b[43m \u001b[49m\u001b[43mkwds\u001b[49m\u001b[43m)\u001b[49m\n",
      "File \u001b[0;32m/Library/Frameworks/Python.framework/Versions/3.11/lib/python3.11/site-packages/pandas/io/parsers/readers.py:620\u001b[0m, in \u001b[0;36m_read\u001b[0;34m(filepath_or_buffer, kwds)\u001b[0m\n\u001b[1;32m    617\u001b[0m _validate_names(kwds\u001b[38;5;241m.\u001b[39mget(\u001b[38;5;124m\"\u001b[39m\u001b[38;5;124mnames\u001b[39m\u001b[38;5;124m\"\u001b[39m, \u001b[38;5;28;01mNone\u001b[39;00m))\n\u001b[1;32m    619\u001b[0m \u001b[38;5;66;03m# Create the parser.\u001b[39;00m\n\u001b[0;32m--> 620\u001b[0m parser \u001b[38;5;241m=\u001b[39m \u001b[43mTextFileReader\u001b[49m\u001b[43m(\u001b[49m\u001b[43mfilepath_or_buffer\u001b[49m\u001b[43m,\u001b[49m\u001b[43m \u001b[49m\u001b[38;5;241;43m*\u001b[39;49m\u001b[38;5;241;43m*\u001b[39;49m\u001b[43mkwds\u001b[49m\u001b[43m)\u001b[49m\n\u001b[1;32m    622\u001b[0m \u001b[38;5;28;01mif\u001b[39;00m chunksize \u001b[38;5;129;01mor\u001b[39;00m iterator:\n\u001b[1;32m    623\u001b[0m     \u001b[38;5;28;01mreturn\u001b[39;00m parser\n",
      "File \u001b[0;32m/Library/Frameworks/Python.framework/Versions/3.11/lib/python3.11/site-packages/pandas/io/parsers/readers.py:1620\u001b[0m, in \u001b[0;36mTextFileReader.__init__\u001b[0;34m(self, f, engine, **kwds)\u001b[0m\n\u001b[1;32m   1617\u001b[0m     \u001b[38;5;28mself\u001b[39m\u001b[38;5;241m.\u001b[39moptions[\u001b[38;5;124m\"\u001b[39m\u001b[38;5;124mhas_index_names\u001b[39m\u001b[38;5;124m\"\u001b[39m] \u001b[38;5;241m=\u001b[39m kwds[\u001b[38;5;124m\"\u001b[39m\u001b[38;5;124mhas_index_names\u001b[39m\u001b[38;5;124m\"\u001b[39m]\n\u001b[1;32m   1619\u001b[0m \u001b[38;5;28mself\u001b[39m\u001b[38;5;241m.\u001b[39mhandles: IOHandles \u001b[38;5;241m|\u001b[39m \u001b[38;5;28;01mNone\u001b[39;00m \u001b[38;5;241m=\u001b[39m \u001b[38;5;28;01mNone\u001b[39;00m\n\u001b[0;32m-> 1620\u001b[0m \u001b[38;5;28mself\u001b[39m\u001b[38;5;241m.\u001b[39m_engine \u001b[38;5;241m=\u001b[39m \u001b[38;5;28;43mself\u001b[39;49m\u001b[38;5;241;43m.\u001b[39;49m\u001b[43m_make_engine\u001b[49m\u001b[43m(\u001b[49m\u001b[43mf\u001b[49m\u001b[43m,\u001b[49m\u001b[43m \u001b[49m\u001b[38;5;28;43mself\u001b[39;49m\u001b[38;5;241;43m.\u001b[39;49m\u001b[43mengine\u001b[49m\u001b[43m)\u001b[49m\n",
      "File \u001b[0;32m/Library/Frameworks/Python.framework/Versions/3.11/lib/python3.11/site-packages/pandas/io/parsers/readers.py:1898\u001b[0m, in \u001b[0;36mTextFileReader._make_engine\u001b[0;34m(self, f, engine)\u001b[0m\n\u001b[1;32m   1895\u001b[0m     \u001b[38;5;28;01mraise\u001b[39;00m \u001b[38;5;167;01mValueError\u001b[39;00m(msg)\n\u001b[1;32m   1897\u001b[0m \u001b[38;5;28;01mtry\u001b[39;00m:\n\u001b[0;32m-> 1898\u001b[0m     \u001b[38;5;28;01mreturn\u001b[39;00m \u001b[43mmapping\u001b[49m\u001b[43m[\u001b[49m\u001b[43mengine\u001b[49m\u001b[43m]\u001b[49m\u001b[43m(\u001b[49m\u001b[43mf\u001b[49m\u001b[43m,\u001b[49m\u001b[43m \u001b[49m\u001b[38;5;241;43m*\u001b[39;49m\u001b[38;5;241;43m*\u001b[39;49m\u001b[38;5;28;43mself\u001b[39;49m\u001b[38;5;241;43m.\u001b[39;49m\u001b[43moptions\u001b[49m\u001b[43m)\u001b[49m\n\u001b[1;32m   1899\u001b[0m \u001b[38;5;28;01mexcept\u001b[39;00m \u001b[38;5;167;01mException\u001b[39;00m:\n\u001b[1;32m   1900\u001b[0m     \u001b[38;5;28;01mif\u001b[39;00m \u001b[38;5;28mself\u001b[39m\u001b[38;5;241m.\u001b[39mhandles \u001b[38;5;129;01mis\u001b[39;00m \u001b[38;5;129;01mnot\u001b[39;00m \u001b[38;5;28;01mNone\u001b[39;00m:\n",
      "File \u001b[0;32m/Library/Frameworks/Python.framework/Versions/3.11/lib/python3.11/site-packages/pandas/io/parsers/c_parser_wrapper.py:93\u001b[0m, in \u001b[0;36mCParserWrapper.__init__\u001b[0;34m(self, src, **kwds)\u001b[0m\n\u001b[1;32m     90\u001b[0m \u001b[38;5;28;01mif\u001b[39;00m kwds[\u001b[38;5;124m\"\u001b[39m\u001b[38;5;124mdtype_backend\u001b[39m\u001b[38;5;124m\"\u001b[39m] \u001b[38;5;241m==\u001b[39m \u001b[38;5;124m\"\u001b[39m\u001b[38;5;124mpyarrow\u001b[39m\u001b[38;5;124m\"\u001b[39m:\n\u001b[1;32m     91\u001b[0m     \u001b[38;5;66;03m# Fail here loudly instead of in cython after reading\u001b[39;00m\n\u001b[1;32m     92\u001b[0m     import_optional_dependency(\u001b[38;5;124m\"\u001b[39m\u001b[38;5;124mpyarrow\u001b[39m\u001b[38;5;124m\"\u001b[39m)\n\u001b[0;32m---> 93\u001b[0m \u001b[38;5;28mself\u001b[39m\u001b[38;5;241m.\u001b[39m_reader \u001b[38;5;241m=\u001b[39m \u001b[43mparsers\u001b[49m\u001b[38;5;241;43m.\u001b[39;49m\u001b[43mTextReader\u001b[49m\u001b[43m(\u001b[49m\u001b[43msrc\u001b[49m\u001b[43m,\u001b[49m\u001b[43m \u001b[49m\u001b[38;5;241;43m*\u001b[39;49m\u001b[38;5;241;43m*\u001b[39;49m\u001b[43mkwds\u001b[49m\u001b[43m)\u001b[49m\n\u001b[1;32m     95\u001b[0m \u001b[38;5;28mself\u001b[39m\u001b[38;5;241m.\u001b[39munnamed_cols \u001b[38;5;241m=\u001b[39m \u001b[38;5;28mself\u001b[39m\u001b[38;5;241m.\u001b[39m_reader\u001b[38;5;241m.\u001b[39munnamed_cols\n\u001b[1;32m     97\u001b[0m \u001b[38;5;66;03m# error: Cannot determine type of 'names'\u001b[39;00m\n",
      "File \u001b[0;32mparsers.pyx:574\u001b[0m, in \u001b[0;36mpandas._libs.parsers.TextReader.__cinit__\u001b[0;34m()\u001b[0m\n",
      "File \u001b[0;32mparsers.pyx:663\u001b[0m, in \u001b[0;36mpandas._libs.parsers.TextReader._get_header\u001b[0;34m()\u001b[0m\n",
      "File \u001b[0;32mparsers.pyx:874\u001b[0m, in \u001b[0;36mpandas._libs.parsers.TextReader._tokenize_rows\u001b[0;34m()\u001b[0m\n",
      "File \u001b[0;32mparsers.pyx:891\u001b[0m, in \u001b[0;36mpandas._libs.parsers.TextReader._check_tokenize_status\u001b[0;34m()\u001b[0m\n",
      "File \u001b[0;32mparsers.pyx:2061\u001b[0m, in \u001b[0;36mpandas._libs.parsers.raise_parser_error\u001b[0;34m()\u001b[0m\n",
      "\u001b[0;31mParserError\u001b[0m: Error tokenizing data. C error: Calling read(nbytes) on source failed. Try engine='python'."
     ]
    }
   ],
   "source": [
    "# Bring in activity data\n",
    "activity1 = pd.read_csv(\"/Users/rheajaisinghani/Desktop/OTC/NHANES Data/paxraw_d.csv\")\n",
    "activity2 = pd.read_csv(\"/Users/rheajaisinghani/Desktop/OTC/NHANES Data/paxraw_c.csv\")"
   ]
  },
  {
   "cell_type": "code",
   "execution_count": 8,
   "metadata": {},
   "outputs": [],
   "source": [
    "selected_columns = ['SEQN','PAXSTAT','PAXCAL','PAXDAY','PAXINTEN','PAXN','PAXMINUT','PAXHOUR']\n",
    "\n",
    "activity1 = activity1[selected_columns]\n",
    "activity2 = activity2[selected_columns]\n",
    "\n",
    "activity_df = pd.concat([activity1, activity2], ignore_index=True)"
   ]
  },
  {
   "cell_type": "code",
   "execution_count": 9,
   "metadata": {},
   "outputs": [],
   "source": [
    "activity_in_embeddings = activity_df[activity_df['SEQN'].isin(gpt50['SEQN'])]\n",
    "\n",
    "activity_in_embeddings.to_csv('/Users/rheajaisinghani/Desktop/OTC/activity_study.csv', index=False)"
   ]
  },
  {
   "cell_type": "code",
   "execution_count": 4,
   "metadata": {},
   "outputs": [],
   "source": [
    "activity_in_embeddings = pd.read_csv(\"/Users/rheajaisinghani/Desktop/OTC/activity_study.csv\")\n",
    "\n",
    "low_activity = activity_in_embeddings[activity_in_embeddings['PAXINTEN'] < 500]"
   ]
  },
  {
   "cell_type": "code",
   "execution_count": 4,
   "metadata": {},
   "outputs": [
    {
     "ename": "",
     "evalue": "",
     "output_type": "error",
     "traceback": [
      "\u001b[1;31mThe Kernel crashed while executing code in the current cell or a previous cell. \n",
      "\u001b[1;31mPlease review the code in the cell(s) to identify a possible cause of the failure. \n",
      "\u001b[1;31mClick <a href='https://aka.ms/vscodeJupyterKernelCrash'>here</a> for more info. \n",
      "\u001b[1;31mView Jupyter <a href='command:jupyter.viewOutput'>log</a> for further details."
     ]
    }
   ],
   "source": [
    "hours_low_activity = (activity_in_embeddings[low_activity].groupby('SEQN', 'PAXDAY').size()/60)"
   ]
  },
  {
   "cell_type": "code",
   "execution_count": null,
   "metadata": {},
   "outputs": [],
   "source": []
  },
  {
   "cell_type": "code",
   "execution_count": null,
   "metadata": {},
   "outputs": [],
   "source": [
    "avg_hours_low_activity = hours_low_activity.groupby('SEQN').mean()"
   ]
  },
  {
   "cell_type": "code",
   "execution_count": null,
   "metadata": {},
   "outputs": [],
   "source": [
    "sedentary_participants = avg_hours_low_activity[avg_hours_low_activity >= 10.6]['SEQN'].values"
   ]
  },
  {
   "cell_type": "code",
   "execution_count": null,
   "metadata": {},
   "outputs": [],
   "source": [
    "print(f\"Number of sedentary participants (>10.6 hours low activity): {len(sedentary_participants)}\")"
   ]
  },
  {
   "cell_type": "markdown",
   "metadata": {},
   "source": [
    "### Archive:"
   ]
  },
  {
   "cell_type": "code",
   "execution_count": 4,
   "metadata": {},
   "outputs": [],
   "source": [
    "# Bring in demographics data to select for age\n",
    "demo1 = pd.read_csv(\"/Users/rheajaisinghani/Desktop/OTC/DEMO_D.csv\")\n",
    "demo2 = pd.read_csv(\"/Users/rheajaisinghani/Desktop/OTC/DEMO_C.csv\")"
   ]
  },
  {
   "cell_type": "code",
   "execution_count": 5,
   "metadata": {},
   "outputs": [],
   "source": [
    "demo_shared_columns = demo1.columns.intersection(demo2.columns)\n",
    "\n",
    "demo1 = demo1[demo_shared_columns]\n",
    "demo2 = demo2[demo_shared_columns]\n",
    "\n",
    "demo_df = pd.concat([demo1, demo2], ignore_index=True)"
   ]
  },
  {
   "cell_type": "code",
   "execution_count": 6,
   "metadata": {},
   "outputs": [
    {
     "name": "stdout",
     "output_type": "stream",
     "text": [
      "There are 9039 participants with all age data given the exclusions.\n"
     ]
    }
   ],
   "source": [
    "complete_age_df = demo_df[\n",
    "    (demo_df['RIDAGEYR'] >= 20) & \n",
    "    (demo_df['RIDAGEYR'] < 85) & \n",
    "    (demo_df['DMDMARTL'] != 77) & \n",
    "    (demo_df['DMDMARTL'] != 99) & \n",
    "    (demo_df['RIDEXPRG'].isin([2, 3])| demo_df['RIDEXPRG'].isnull()) & \n",
    "    (demo_df['DMDEDUC2'] != 7) & \n",
    "    (demo_df['DMDEDUC2'] != 9)\n",
    "]\n",
    "\n",
    "print(f\"There are {complete_age_df.SEQN.nunique()} participants with all age data given the exclusions.\")"
   ]
  },
  {
   "cell_type": "code",
   "execution_count": 9,
   "metadata": {},
   "outputs": [],
   "source": [
    "# Clean activity data to select for reliable and calibrated data\n",
    "clean_activity = activity_df[(activity_df['PAXSTAT']==1.0) & (activity_df['PAXCAL']==1.0)]"
   ]
  },
  {
   "cell_type": "code",
   "execution_count": 10,
   "metadata": {},
   "outputs": [],
   "source": [
    "filtered_activity = clean_activity[clean_activity['SEQN'].isin(gpt50['SEQN'])]"
   ]
  },
  {
   "cell_type": "code",
   "execution_count": 4,
   "metadata": {},
   "outputs": [],
   "source": [
    "thresholds = list(range(0, 8005, 5))"
   ]
  },
  {
   "cell_type": "code",
   "execution_count": 13,
   "metadata": {},
   "outputs": [
    {
     "name": "stdout",
     "output_type": "stream",
     "text": [
      "Shape of oct DataFrame: (6943, 1601)\n",
      "\n",
      "First few rows and columns:\n",
      "           0     5     10    15    20    25    30    35    40    45\n",
      "31131.0  5231  4826  4572  4411  4247  4092  3960  3848  3747  3656\n",
      "31132.0  3238  3013  2919  2853  2790  2728  2671  2623  2571  2531\n",
      "31144.0  1980  1719  1570  1459  1379  1304  1257  1213  1163  1123\n",
      "31150.0  5159  4796  4595  4424  4309  4182  4090  4017  3943  3872\n",
      "31151.0  4488  4069  3852  3682  3539  3407  3282  3174  3093  3018\n"
     ]
    }
   ],
   "source": [
    "results = {}\n",
    "\n",
    "# For each SEQN\n",
    "for seqn in filtered_activity['SEQN'].unique():\n",
    "    # Get PAXINTEN values for this SEQN\n",
    "    pax_values = filtered_activity[filtered_activity['SEQN'] == seqn]['PAXINTEN']\n",
    "    \n",
    "    # Count values at or above each threshold\n",
    "    counts = {threshold: (pax_values > threshold).sum() for threshold in thresholds}\n",
    "    \n",
    "    # Add to results dictionary\n",
    "    results[seqn] = counts\n",
    "\n",
    "# Convert results to DataFrame\n",
    "oct = pd.DataFrame.from_dict(results, orient='index')\n",
    "oct.to_csv(\"/Users/rheajaisinghani/Desktop/OTC/oct_raw.csv\")\n",
    "\n",
    "# Verify the results\n",
    "print(\"Shape of oct DataFrame:\", oct.shape)\n",
    "print(\"\\nFirst few rows and columns:\")\n",
    "print(oct.iloc[:5, :10])"
   ]
  },
  {
   "cell_type": "markdown",
   "metadata": {},
   "source": [
    "convert to some type of spline? \n",
    "extract slope/measure of pace of decline for each window in oct\n",
    "\n",
    "want to model similar to raw accelerometer embeddings (time on x)\n",
    "\n",
    "use slope/magnitude instead of entropy (from entrollm)\n",
    "\n",
    "split activity level into low moderate, high and measure slope and magnitude within that bin (6 covariates)\n"
   ]
  },
  {
   "cell_type": "code",
   "execution_count": 12,
   "metadata": {},
   "outputs": [],
   "source": [
    "oct = pd.read_csv(\"/Users/rheajaisinghani/Desktop/OTC/oct_raw.csv\")"
   ]
  },
  {
   "cell_type": "code",
   "execution_count": 13,
   "metadata": {},
   "outputs": [],
   "source": [
    "oct = oct.set_index(oct.columns[0])"
   ]
  },
  {
   "cell_type": "code",
   "execution_count": 15,
   "metadata": {},
   "outputs": [],
   "source": [
    "oct = oct.rename_axis(None) "
   ]
  },
  {
   "cell_type": "code",
   "execution_count": 9,
   "metadata": {},
   "outputs": [],
   "source": [
    "oct.columns = [f'threshold_{x}' for x in thresholds]"
   ]
  },
  {
   "cell_type": "code",
   "execution_count": null,
   "metadata": {},
   "outputs": [
    {
     "name": "stdout",
     "output_type": "stream",
     "text": [
      "First few rows of concatenated column:\n",
      "31131.0    5231 4826 4572 4411 4247 4092 3960 3848 3747 3...\n",
      "31132.0    3238 3013 2919 2853 2790 2728 2671 2623 2571 2...\n",
      "31144.0    1980 1719 1570 1459 1379 1304 1257 1213 1163 1...\n",
      "31150.0    5159 4796 4595 4424 4309 4182 4090 4017 3943 3...\n",
      "31151.0    4488 4069 3852 3682 3539 3407 3282 3174 3093 3...\n",
      "Name: concatenated, dtype: object\n",
      "\n",
      "Length of first few concatenated strings:\n",
      "31131.0    4585\n",
      "31132.0    5372\n",
      "31144.0    4362\n",
      "31150.0    4157\n",
      "31151.0    4140\n",
      "Name: concatenated, dtype: int64\n"
     ]
    }
   ],
   "source": [
    "oct_str = oct.astype(str)\n",
    "\n",
    "oct['concatenated'] = oct_str.apply(lambda row: ' '.join(row), axis=1)\n",
    "\n",
    "print(\"First few rows of concatenated column:\")\n",
    "print(oct['concatenated'].head())\n",
    "\n",
    "print(\"\\nLength of first few concatenated strings:\")\n",
    "print(oct['concatenated'].str.len().head())"
   ]
  },
  {
   "cell_type": "code",
   "execution_count": 18,
   "metadata": {},
   "outputs": [],
   "source": [
    "embedding_encoding = \"cl100k_base\"\n",
    "encoding = tiktoken.get_encoding(embedding_encoding)\n",
    "oct[\"n_tokens\"] = oct.concatenated.apply(lambda x: len(encoding.encode(x)))"
   ]
  },
  {
   "cell_type": "code",
   "execution_count": 22,
   "metadata": {},
   "outputs": [],
   "source": [
    "oct_token = oct.drop(columns=[col for col in oct.columns if col.startswith('threshold')])\n",
    "oct_token.to_csv(\"/Users/rheajaisinghani/Desktop/OTC/otc_data_wide_embedding_initial.csv\")\n"
   ]
  },
  {
   "cell_type": "code",
   "execution_count": 14,
   "metadata": {},
   "outputs": [],
   "source": [
    "from openai import OpenAI\n",
    "api_key = ''\n",
    "client = OpenAI(api_key=api_key)"
   ]
  },
  {
   "cell_type": "code",
   "execution_count": 24,
   "metadata": {},
   "outputs": [],
   "source": [
    "def get_embedding(text, model=\"text-embedding-3-small\"):\n",
    "   text = text.replace(\"\\n\", \" \")\n",
    "   return client.embeddings.create(input = [text], model=model).data[ 0].embedding\n",
    "\n",
    "embedding_model = \"text-embedding-3-small\"\n",
    "embedding_encoding = \"cl100k_base\"\n",
    "max_tokens = 8191"
   ]
  },
  {
   "cell_type": "code",
   "execution_count": 25,
   "metadata": {},
   "outputs": [],
   "source": [
    "df_gpt=oct_token.copy()\n",
    "df_gpt[\"embedding\"] = df_gpt.concatenated.apply(lambda x: get_embedding(x, model=embedding_model))"
   ]
  },
  {
   "cell_type": "code",
   "execution_count": 26,
   "metadata": {},
   "outputs": [],
   "source": [
    "df_gpt = df_gpt.drop('concatenated', axis=1)"
   ]
  },
  {
   "cell_type": "code",
   "execution_count": 27,
   "metadata": {},
   "outputs": [],
   "source": [
    "df_gpt.to_csv(\"/Users/rheajaisinghani/Desktop/OTC/data_otc_correct_embedding_gpt1536.csv\")"
   ]
  },
  {
   "cell_type": "code",
   "execution_count": 34,
   "metadata": {},
   "outputs": [],
   "source": [
    "def normalize_l2(x):\n",
    "    emb = np.array(x)\n",
    "    norm = np.linalg.norm(emb)\n",
    "    if norm == 0:\n",
    "        return emb\n",
    "    return emb / norm"
   ]
  },
  {
   "cell_type": "code",
   "execution_count": 35,
   "metadata": {},
   "outputs": [],
   "source": [
    "# 2) Normalize them\n",
    "df_gpt[\"embedding_1536_norm\"] = df_gpt[\"embedding\"].apply(normalize_l2)\n",
    "\n",
    "# 3) Convert to DataFrame columns if needed\n",
    "df_emb = pd.DataFrame(df_gpt[\"embedding_1536_norm\"].tolist())\n",
    "df_emb[\"SEQN\"] = df_gpt[\"SEQN\"]\n",
    "\n",
    "# Reorder so SEQN is first\n",
    "cols = df_emb.columns.tolist()\n",
    "df_emb = df_emb[cols[-1:] + cols[:-1]]"
   ]
  },
  {
   "cell_type": "code",
   "execution_count": 38,
   "metadata": {},
   "outputs": [],
   "source": [
    "df_emb.to_csv(\"/Users/rheajaisinghani/Desktop/OTC/data_otc_correct_embedding_gpt1536.csv\", index=False)"
   ]
  },
  {
   "cell_type": "code",
   "execution_count": 28,
   "metadata": {},
   "outputs": [],
   "source": [
    "oct_token = oct_token.reset_index().rename(columns={'index': 'SEQN'})"
   ]
  },
  {
   "cell_type": "code",
   "execution_count": 29,
   "metadata": {},
   "outputs": [],
   "source": [
    "df_gpt = df_gpt.reset_index().rename(columns={'index': 'SEQN'})"
   ]
  },
  {
   "cell_type": "code",
   "execution_count": 39,
   "metadata": {},
   "outputs": [
    {
     "data": {
      "text/html": [
       "<div>\n",
       "<style scoped>\n",
       "    .dataframe tbody tr th:only-of-type {\n",
       "        vertical-align: middle;\n",
       "    }\n",
       "\n",
       "    .dataframe tbody tr th {\n",
       "        vertical-align: top;\n",
       "    }\n",
       "\n",
       "    .dataframe thead th {\n",
       "        text-align: right;\n",
       "    }\n",
       "</style>\n",
       "<table border=\"1\" class=\"dataframe\">\n",
       "  <thead>\n",
       "    <tr style=\"text-align: right;\">\n",
       "      <th></th>\n",
       "      <th>SEQN</th>\n",
       "      <th>0</th>\n",
       "      <th>5</th>\n",
       "      <th>10</th>\n",
       "      <th>15</th>\n",
       "      <th>20</th>\n",
       "      <th>25</th>\n",
       "      <th>30</th>\n",
       "      <th>35</th>\n",
       "      <th>40</th>\n",
       "      <th>...</th>\n",
       "      <th>7980</th>\n",
       "      <th>7985</th>\n",
       "      <th>7990</th>\n",
       "      <th>7995</th>\n",
       "      <th>8000</th>\n",
       "      <th>n_tokens</th>\n",
       "      <th>embedding</th>\n",
       "      <th>embedding_50</th>\n",
       "      <th>embedding_50_norm</th>\n",
       "      <th>embedding_1536_norm</th>\n",
       "    </tr>\n",
       "  </thead>\n",
       "  <tbody>\n",
       "    <tr>\n",
       "      <th>0</th>\n",
       "      <td>31131.0</td>\n",
       "      <td>5231</td>\n",
       "      <td>4826</td>\n",
       "      <td>4572</td>\n",
       "      <td>4411</td>\n",
       "      <td>4247</td>\n",
       "      <td>4092</td>\n",
       "      <td>3960</td>\n",
       "      <td>3848</td>\n",
       "      <td>3747</td>\n",
       "      <td>...</td>\n",
       "      <td>0</td>\n",
       "      <td>0</td>\n",
       "      <td>0</td>\n",
       "      <td>0</td>\n",
       "      <td>0</td>\n",
       "      <td>3311</td>\n",
       "      <td>[-0.005901869852095842, 0.030304739251732826, ...</td>\n",
       "      <td>[-0.005901869852095842, 0.030304739251732826, ...</td>\n",
       "      <td>[-0.031683088481959484, 0.1626853453561669, 0....</td>\n",
       "      <td>[-0.0059018698342223315, 0.030304739159956476,...</td>\n",
       "    </tr>\n",
       "    <tr>\n",
       "      <th>1</th>\n",
       "      <td>31132.0</td>\n",
       "      <td>3238</td>\n",
       "      <td>3013</td>\n",
       "      <td>2919</td>\n",
       "      <td>2853</td>\n",
       "      <td>2790</td>\n",
       "      <td>2728</td>\n",
       "      <td>2671</td>\n",
       "      <td>2623</td>\n",
       "      <td>2571</td>\n",
       "      <td>...</td>\n",
       "      <td>1</td>\n",
       "      <td>1</td>\n",
       "      <td>1</td>\n",
       "      <td>1</td>\n",
       "      <td>1</td>\n",
       "      <td>3336</td>\n",
       "      <td>[-0.0028967258986085653, 0.0233925748616457, 0...</td>\n",
       "      <td>[-0.0028967258986085653, 0.0233925748616457, 0...</td>\n",
       "      <td>[-0.01484955663755183, 0.11991792715805004, 0....</td>\n",
       "      <td>[-0.002896725952440629, 0.023392575296367735, ...</td>\n",
       "    </tr>\n",
       "    <tr>\n",
       "      <th>2</th>\n",
       "      <td>31144.0</td>\n",
       "      <td>1980</td>\n",
       "      <td>1719</td>\n",
       "      <td>1570</td>\n",
       "      <td>1459</td>\n",
       "      <td>1379</td>\n",
       "      <td>1304</td>\n",
       "      <td>1257</td>\n",
       "      <td>1213</td>\n",
       "      <td>1163</td>\n",
       "      <td>...</td>\n",
       "      <td>1</td>\n",
       "      <td>1</td>\n",
       "      <td>1</td>\n",
       "      <td>1</td>\n",
       "      <td>1</td>\n",
       "      <td>3214</td>\n",
       "      <td>[0.0002247347729280591, 0.017335131764411926, ...</td>\n",
       "      <td>[0.0002247347729280591, 0.017335131764411926, ...</td>\n",
       "      <td>[0.0012242778547636864, 0.09443584387082755, 0...</td>\n",
       "      <td>[0.00022473477548714724, 0.01733513196180964, ...</td>\n",
       "    </tr>\n",
       "    <tr>\n",
       "      <th>3</th>\n",
       "      <td>31150.0</td>\n",
       "      <td>5159</td>\n",
       "      <td>4796</td>\n",
       "      <td>4595</td>\n",
       "      <td>4424</td>\n",
       "      <td>4309</td>\n",
       "      <td>4182</td>\n",
       "      <td>4090</td>\n",
       "      <td>4017</td>\n",
       "      <td>3943</td>\n",
       "      <td>...</td>\n",
       "      <td>0</td>\n",
       "      <td>0</td>\n",
       "      <td>0</td>\n",
       "      <td>0</td>\n",
       "      <td>0</td>\n",
       "      <td>3302</td>\n",
       "      <td>[0.002347341738641262, 0.022133635357022285, 0...</td>\n",
       "      <td>[0.002347341738641262, 0.022133635357022285, 0...</td>\n",
       "      <td>[0.012939484183027577, 0.12200942875103846, 0....</td>\n",
       "      <td>[0.0023473418479776154, 0.022133636387980386, ...</td>\n",
       "    </tr>\n",
       "    <tr>\n",
       "      <th>4</th>\n",
       "      <td>31151.0</td>\n",
       "      <td>4488</td>\n",
       "      <td>4069</td>\n",
       "      <td>3852</td>\n",
       "      <td>3682</td>\n",
       "      <td>3539</td>\n",
       "      <td>3407</td>\n",
       "      <td>3282</td>\n",
       "      <td>3174</td>\n",
       "      <td>3093</td>\n",
       "      <td>...</td>\n",
       "      <td>0</td>\n",
       "      <td>0</td>\n",
       "      <td>0</td>\n",
       "      <td>0</td>\n",
       "      <td>0</td>\n",
       "      <td>3300</td>\n",
       "      <td>[-0.0040491134859621525, 0.02270076610147953, ...</td>\n",
       "      <td>[-0.0040491134859621525, 0.02270076610147953, ...</td>\n",
       "      <td>[-0.02205416035756763, 0.12364344382476627, 0....</td>\n",
       "      <td>[-0.004049113471003708, 0.02270076601761719, 0...</td>\n",
       "    </tr>\n",
       "    <tr>\n",
       "      <th>...</th>\n",
       "      <td>...</td>\n",
       "      <td>...</td>\n",
       "      <td>...</td>\n",
       "      <td>...</td>\n",
       "      <td>...</td>\n",
       "      <td>...</td>\n",
       "      <td>...</td>\n",
       "      <td>...</td>\n",
       "      <td>...</td>\n",
       "      <td>...</td>\n",
       "      <td>...</td>\n",
       "      <td>...</td>\n",
       "      <td>...</td>\n",
       "      <td>...</td>\n",
       "      <td>...</td>\n",
       "      <td>...</td>\n",
       "      <td>...</td>\n",
       "      <td>...</td>\n",
       "      <td>...</td>\n",
       "      <td>...</td>\n",
       "      <td>...</td>\n",
       "    </tr>\n",
       "    <tr>\n",
       "      <th>6938</th>\n",
       "      <td>31114.0</td>\n",
       "      <td>4904</td>\n",
       "      <td>4418</td>\n",
       "      <td>4168</td>\n",
       "      <td>3956</td>\n",
       "      <td>3807</td>\n",
       "      <td>3658</td>\n",
       "      <td>3559</td>\n",
       "      <td>3455</td>\n",
       "      <td>3350</td>\n",
       "      <td>...</td>\n",
       "      <td>0</td>\n",
       "      <td>0</td>\n",
       "      <td>0</td>\n",
       "      <td>0</td>\n",
       "      <td>0</td>\n",
       "      <td>3292</td>\n",
       "      <td>[-0.008950109593570232, 0.0250631645321846, 0....</td>\n",
       "      <td>[-0.008950109593570232, 0.0250631645321846, 0....</td>\n",
       "      <td>[-0.04897189467642008, 0.13713694127384657, 0....</td>\n",
       "      <td>[-0.008950109271560237, 0.0250631636304538, 0....</td>\n",
       "    </tr>\n",
       "    <tr>\n",
       "      <th>6939</th>\n",
       "      <td>31119.0</td>\n",
       "      <td>2697</td>\n",
       "      <td>2620</td>\n",
       "      <td>2562</td>\n",
       "      <td>2511</td>\n",
       "      <td>2467</td>\n",
       "      <td>2433</td>\n",
       "      <td>2406</td>\n",
       "      <td>2377</td>\n",
       "      <td>2350</td>\n",
       "      <td>...</td>\n",
       "      <td>0</td>\n",
       "      <td>0</td>\n",
       "      <td>0</td>\n",
       "      <td>0</td>\n",
       "      <td>0</td>\n",
       "      <td>3430</td>\n",
       "      <td>[-0.0059438482858240604, 0.02686450444161892, ...</td>\n",
       "      <td>[-0.0059438482858240604, 0.02686450444161892, ...</td>\n",
       "      <td>[-0.031243785314259406, 0.14121302714770448, 0...</td>\n",
       "      <td>[-0.005943848217097955, 0.02686450413099646, 0...</td>\n",
       "    </tr>\n",
       "    <tr>\n",
       "      <th>6940</th>\n",
       "      <td>31121.0</td>\n",
       "      <td>4773</td>\n",
       "      <td>4183</td>\n",
       "      <td>3826</td>\n",
       "      <td>3635</td>\n",
       "      <td>3458</td>\n",
       "      <td>3322</td>\n",
       "      <td>3169</td>\n",
       "      <td>3043</td>\n",
       "      <td>2946</td>\n",
       "      <td>...</td>\n",
       "      <td>0</td>\n",
       "      <td>0</td>\n",
       "      <td>0</td>\n",
       "      <td>0</td>\n",
       "      <td>0</td>\n",
       "      <td>3280</td>\n",
       "      <td>[-0.0014023869298398495, 0.025532115250825882,...</td>\n",
       "      <td>[-0.0014023869298398495, 0.025532115250825882,...</td>\n",
       "      <td>[-0.007710513426643897, 0.14037903039683503, 0...</td>\n",
       "      <td>[-0.001402386936931231, 0.025532115379932885, ...</td>\n",
       "    </tr>\n",
       "    <tr>\n",
       "      <th>6941</th>\n",
       "      <td>31124.0</td>\n",
       "      <td>2517</td>\n",
       "      <td>2316</td>\n",
       "      <td>2199</td>\n",
       "      <td>2130</td>\n",
       "      <td>2083</td>\n",
       "      <td>2040</td>\n",
       "      <td>1995</td>\n",
       "      <td>1958</td>\n",
       "      <td>1929</td>\n",
       "      <td>...</td>\n",
       "      <td>0</td>\n",
       "      <td>0</td>\n",
       "      <td>0</td>\n",
       "      <td>0</td>\n",
       "      <td>0</td>\n",
       "      <td>3298</td>\n",
       "      <td>[-0.0008422043174505234, 0.02478110045194626, ...</td>\n",
       "      <td>[-0.0008422043174505234, 0.02478110045194626, ...</td>\n",
       "      <td>[-0.004607635099970202, 0.13557549622153633, 0...</td>\n",
       "      <td>[-0.000842204272900808, 0.02478109914111117, 0...</td>\n",
       "    </tr>\n",
       "    <tr>\n",
       "      <th>6942</th>\n",
       "      <td>31125.0</td>\n",
       "      <td>17</td>\n",
       "      <td>16</td>\n",
       "      <td>14</td>\n",
       "      <td>13</td>\n",
       "      <td>11</td>\n",
       "      <td>9</td>\n",
       "      <td>9</td>\n",
       "      <td>9</td>\n",
       "      <td>8</td>\n",
       "      <td>...</td>\n",
       "      <td>0</td>\n",
       "      <td>0</td>\n",
       "      <td>0</td>\n",
       "      <td>0</td>\n",
       "      <td>0</td>\n",
       "      <td>3201</td>\n",
       "      <td>[-0.010926501825451851, 0.030247503891587257, ...</td>\n",
       "      <td>[-0.010926501825451851, 0.030247503891587257, ...</td>\n",
       "      <td>[-0.055691604990185266, 0.1541693824409083, 0....</td>\n",
       "      <td>[-0.010926501308736502, 0.030247502461179812, ...</td>\n",
       "    </tr>\n",
       "  </tbody>\n",
       "</table>\n",
       "<p>6943 rows × 1607 columns</p>\n",
       "</div>"
      ],
      "text/plain": [
       "         SEQN     0     5    10    15    20    25    30    35    40  ...  \\\n",
       "0     31131.0  5231  4826  4572  4411  4247  4092  3960  3848  3747  ...   \n",
       "1     31132.0  3238  3013  2919  2853  2790  2728  2671  2623  2571  ...   \n",
       "2     31144.0  1980  1719  1570  1459  1379  1304  1257  1213  1163  ...   \n",
       "3     31150.0  5159  4796  4595  4424  4309  4182  4090  4017  3943  ...   \n",
       "4     31151.0  4488  4069  3852  3682  3539  3407  3282  3174  3093  ...   \n",
       "...       ...   ...   ...   ...   ...   ...   ...   ...   ...   ...  ...   \n",
       "6938  31114.0  4904  4418  4168  3956  3807  3658  3559  3455  3350  ...   \n",
       "6939  31119.0  2697  2620  2562  2511  2467  2433  2406  2377  2350  ...   \n",
       "6940  31121.0  4773  4183  3826  3635  3458  3322  3169  3043  2946  ...   \n",
       "6941  31124.0  2517  2316  2199  2130  2083  2040  1995  1958  1929  ...   \n",
       "6942  31125.0    17    16    14    13    11     9     9     9     8  ...   \n",
       "\n",
       "      7980  7985  7990  7995  8000  n_tokens  \\\n",
       "0        0     0     0     0     0      3311   \n",
       "1        1     1     1     1     1      3336   \n",
       "2        1     1     1     1     1      3214   \n",
       "3        0     0     0     0     0      3302   \n",
       "4        0     0     0     0     0      3300   \n",
       "...    ...   ...   ...   ...   ...       ...   \n",
       "6938     0     0     0     0     0      3292   \n",
       "6939     0     0     0     0     0      3430   \n",
       "6940     0     0     0     0     0      3280   \n",
       "6941     0     0     0     0     0      3298   \n",
       "6942     0     0     0     0     0      3201   \n",
       "\n",
       "                                              embedding  \\\n",
       "0     [-0.005901869852095842, 0.030304739251732826, ...   \n",
       "1     [-0.0028967258986085653, 0.0233925748616457, 0...   \n",
       "2     [0.0002247347729280591, 0.017335131764411926, ...   \n",
       "3     [0.002347341738641262, 0.022133635357022285, 0...   \n",
       "4     [-0.0040491134859621525, 0.02270076610147953, ...   \n",
       "...                                                 ...   \n",
       "6938  [-0.008950109593570232, 0.0250631645321846, 0....   \n",
       "6939  [-0.0059438482858240604, 0.02686450444161892, ...   \n",
       "6940  [-0.0014023869298398495, 0.025532115250825882,...   \n",
       "6941  [-0.0008422043174505234, 0.02478110045194626, ...   \n",
       "6942  [-0.010926501825451851, 0.030247503891587257, ...   \n",
       "\n",
       "                                           embedding_50  \\\n",
       "0     [-0.005901869852095842, 0.030304739251732826, ...   \n",
       "1     [-0.0028967258986085653, 0.0233925748616457, 0...   \n",
       "2     [0.0002247347729280591, 0.017335131764411926, ...   \n",
       "3     [0.002347341738641262, 0.022133635357022285, 0...   \n",
       "4     [-0.0040491134859621525, 0.02270076610147953, ...   \n",
       "...                                                 ...   \n",
       "6938  [-0.008950109593570232, 0.0250631645321846, 0....   \n",
       "6939  [-0.0059438482858240604, 0.02686450444161892, ...   \n",
       "6940  [-0.0014023869298398495, 0.025532115250825882,...   \n",
       "6941  [-0.0008422043174505234, 0.02478110045194626, ...   \n",
       "6942  [-0.010926501825451851, 0.030247503891587257, ...   \n",
       "\n",
       "                                      embedding_50_norm  \\\n",
       "0     [-0.031683088481959484, 0.1626853453561669, 0....   \n",
       "1     [-0.01484955663755183, 0.11991792715805004, 0....   \n",
       "2     [0.0012242778547636864, 0.09443584387082755, 0...   \n",
       "3     [0.012939484183027577, 0.12200942875103846, 0....   \n",
       "4     [-0.02205416035756763, 0.12364344382476627, 0....   \n",
       "...                                                 ...   \n",
       "6938  [-0.04897189467642008, 0.13713694127384657, 0....   \n",
       "6939  [-0.031243785314259406, 0.14121302714770448, 0...   \n",
       "6940  [-0.007710513426643897, 0.14037903039683503, 0...   \n",
       "6941  [-0.004607635099970202, 0.13557549622153633, 0...   \n",
       "6942  [-0.055691604990185266, 0.1541693824409083, 0....   \n",
       "\n",
       "                                    embedding_1536_norm  \n",
       "0     [-0.0059018698342223315, 0.030304739159956476,...  \n",
       "1     [-0.002896725952440629, 0.023392575296367735, ...  \n",
       "2     [0.00022473477548714724, 0.01733513196180964, ...  \n",
       "3     [0.0023473418479776154, 0.022133636387980386, ...  \n",
       "4     [-0.004049113471003708, 0.02270076601761719, 0...  \n",
       "...                                                 ...  \n",
       "6938  [-0.008950109271560237, 0.0250631636304538, 0....  \n",
       "6939  [-0.005943848217097955, 0.02686450413099646, 0...  \n",
       "6940  [-0.001402386936931231, 0.025532115379932885, ...  \n",
       "6941  [-0.000842204272900808, 0.02478109914111117, 0...  \n",
       "6942  [-0.010926501308736502, 0.030247502461179812, ...  \n",
       "\n",
       "[6943 rows x 1607 columns]"
      ]
     },
     "execution_count": 39,
     "metadata": {},
     "output_type": "execute_result"
    }
   ],
   "source": [
    "df_gpt"
   ]
  },
  {
   "cell_type": "code",
   "execution_count": null,
   "metadata": {},
   "outputs": [],
   "source": [
    "def normalize_l2(x):\n",
    "    emb = np.array(x)\n",
    "    norm = np.linalg.norm(emb)\n",
    "    if norm == 0:\n",
    "        return emb\n",
    "    return emb / norm\n",
    "\n",
    "# 1) Truncate your existing 1536-dim embeddings to 50 dims\n",
    "df_gpt[\"embedding_50\"] = df_gpt[\"embedding\"].apply(lambda emb: emb[:50])\n",
    "\n",
    "# 2) Normalize them\n",
    "df_gpt[\"embedding_50_norm\"] = df_gpt[\"embedding_50\"].apply(normalize_l2)\n",
    "\n",
    "# 3) Convert to DataFrame columns if needed\n",
    "df_emb = pd.DataFrame(df_gpt[\"embedding_50_norm\"].tolist())\n",
    "df_emb[\"SEQN\"] = df_gpt[\"SEQN\"]\n",
    "\n",
    "# Reorder so SEQN is first\n",
    "cols = df_emb.columns.tolist()\n",
    "df_emb = df_emb[cols[-1:] + cols[:-1]]\n",
    "\n",
    "# 4) Merge or save\n",
    "df_new = pd.merge(df_gpt, df_emb, on=\"SEQN\", how=\"left\")\n",
    "df_new.to_csv(\"/Users/rheajaisinghani/Desktop/OTC/data_otc_correct_embedding_gpt50.csv\", index=False)"
   ]
  },
  {
   "cell_type": "code",
   "execution_count": 41,
   "metadata": {},
   "outputs": [],
   "source": [
    "# 3) Convert to DataFrame columns if needed\n",
    "df_emb = pd.DataFrame(df_gpt[\"embedding_50_norm\"].tolist())\n",
    "df_emb[\"SEQN\"] = df_gpt[\"SEQN\"]\n",
    "\n",
    "# Reorder so SEQN is first\n",
    "cols = df_emb.columns.tolist()\n",
    "df_emb = df_emb[cols[-1:] + cols[:-1]]\n",
    "\n",
    "df_emb.to_csv(\"/Users/rheajaisinghani/Desktop/OTC/data_otc_correct_embedding_gpt50.csv\", index=False)"
   ]
  },
  {
   "cell_type": "code",
   "execution_count": 10,
   "metadata": {},
   "outputs": [
    {
     "name": "stdout",
     "output_type": "stream",
     "text": [
      "There are 7360 participants with all activity data.\n"
     ]
    }
   ],
   "source": [
    "missing1 = clean_activity.groupby('SEQN').size().reset_index(name='n')\n",
    "missing1 = missing1[missing1['n'] != 24 * 60 * 7]\n",
    "complete_activity_df = clean_activity[~clean_activity['SEQN'].isin(missing1['SEQN'])]\n",
    "complete_activity_df = complete_activity_df[complete_activity_df['SEQN'].isin(complete_age_df['SEQN'])]\n",
    "\n",
    "print(f\"There are {complete_activity_df.SEQN.nunique()} participants with all activity data.\")"
   ]
  },
  {
   "cell_type": "code",
   "execution_count": 11,
   "metadata": {},
   "outputs": [],
   "source": [
    "bmi1 = pd.read_csv(\"/Users/rheajaisinghani/Desktop/OTC/BMX_D.csv\")\n",
    "bmi2 = pd.read_csv(\"/Users/rheajaisinghani/Desktop/OTC/BMX_C.csv\")"
   ]
  },
  {
   "cell_type": "code",
   "execution_count": 12,
   "metadata": {},
   "outputs": [],
   "source": [
    "bmi_shared_columns = bmi1.columns.intersection(bmi2.columns)\n",
    "\n",
    "bmi1 = bmi1[bmi_shared_columns]\n",
    "bmi2 = bmi2[bmi_shared_columns]\n",
    "\n",
    "bmi_df = pd.concat([bmi1, bmi2], ignore_index=True)"
   ]
  },
  {
   "cell_type": "code",
   "execution_count": 13,
   "metadata": {},
   "outputs": [
    {
     "name": "stdout",
     "output_type": "stream",
     "text": [
      "There are 8464 participants with all BMI data.\n"
     ]
    }
   ],
   "source": [
    "complete_bmi_df = bmi_df.loc[bmi_df['BMXBMI'].notnull()]\n",
    "complete_bmi_df = complete_bmi_df[complete_bmi_df['SEQN'].isin(complete_age_df['SEQN'])]\n",
    "print(f\"There are {complete_bmi_df.SEQN.nunique()} participants with all BMI data.\")"
   ]
  },
  {
   "cell_type": "code",
   "execution_count": 39,
   "metadata": {},
   "outputs": [],
   "source": [
    "cig1 = pd.read_csv(\"/Users/rheajaisinghani/Desktop/OTC/NHANES Data/SMQ_D.csv\")\n",
    "cig2 = pd.read_csv(\"/Users/rheajaisinghani/Desktop/OTC/NHANES Data/SMQ_C.csv\")"
   ]
  },
  {
   "cell_type": "code",
   "execution_count": 40,
   "metadata": {},
   "outputs": [],
   "source": [
    "cig_shared_columns = cig1.columns.intersection(cig2.columns)\n",
    "\n",
    "cig1 = cig1[cig_shared_columns]\n",
    "cig2 = cig2[cig_shared_columns]\n",
    "\n",
    "cig_df = pd.concat([cig1, cig2], ignore_index=False)"
   ]
  },
  {
   "cell_type": "code",
   "execution_count": 43,
   "metadata": {},
   "outputs": [
    {
     "name": "stdout",
     "output_type": "stream",
     "text": [
      "There are 1664 participants with all cig data.\n"
     ]
    }
   ],
   "source": [
    "complete_cig_df = cig_df.loc[cig_df['SMD057'].notnull()]\n",
    "complete_cig_df = complete_cig_df[complete_cig_df['SEQN'].isin(gpt50['SEQN'])]\n",
    "\n",
    "print(f\"There are {complete_cig_df.SEQN.nunique()} participants with all cig data.\")"
   ]
  },
  {
   "cell_type": "code",
   "execution_count": 44,
   "metadata": {},
   "outputs": [],
   "source": [
    "cig_risk = complete_cig_df.loc[complete_cig_df['SMD057'].isin(range(20,96)), 'SEQN']"
   ]
  },
  {
   "cell_type": "code",
   "execution_count": 47,
   "metadata": {},
   "outputs": [],
   "source": [
    "cig_risk = pd.DataFrame(cig_risk)\n",
    "cig_risk.to_csv(\"/Users/rheajaisinghani/Desktop/OTC/cig_risk.csv\")"
   ]
  },
  {
   "cell_type": "code",
   "execution_count": 14,
   "metadata": {},
   "outputs": [],
   "source": [
    "tv1 = pd.read_csv(\"/Users/rheajaisinghani/Desktop/OTC/PAQ_D.csv\")\n",
    "tv2 = pd.read_csv(\"/Users/rheajaisinghani/Desktop/OTC/PAQ_C.csv\")"
   ]
  },
  {
   "cell_type": "code",
   "execution_count": 15,
   "metadata": {},
   "outputs": [],
   "source": [
    "tv_shared_columns = tv1.columns.intersection(tv2.columns)\n",
    "\n",
    "tv1 = tv1[tv_shared_columns]\n",
    "tv2 = tv2[tv_shared_columns]\n",
    "\n",
    "tv_df = pd.concat([tv1, tv2], ignore_index=False)"
   ]
  },
  {
   "cell_type": "code",
   "execution_count": 16,
   "metadata": {},
   "outputs": [
    {
     "name": "stdout",
     "output_type": "stream",
     "text": [
      "There are 9039 participants with all TV data.\n"
     ]
    }
   ],
   "source": [
    "complete_tv_df = tv_df.loc[tv_df['PAD590'].notnull()]\n",
    "complete_tv_df = complete_tv_df[complete_tv_df['SEQN'].isin(complete_age_df['SEQN'])]\n",
    "\n",
    "print(f\"There are {complete_tv_df.SEQN.nunique()} participants with all TV data.\")"
   ]
  },
  {
   "cell_type": "code",
   "execution_count": 20,
   "metadata": {},
   "outputs": [],
   "source": [
    "set_activity = set(complete_activity_df['SEQN'].dropna())\n",
    "set_age = set(complete_age_df['SEQN'].dropna())\n",
    "set_bmi = set(complete_bmi_df['SEQN'].dropna())\n",
    "set_cig = set(complete_cig_df['SEQN'].dropna())\n",
    "set_tv = set(complete_tv_df['SEQN'].dropna())"
   ]
  },
  {
   "cell_type": "code",
   "execution_count": 19,
   "metadata": {},
   "outputs": [
    {
     "name": "stderr",
     "output_type": "stream",
     "text": [
      "/Library/Frameworks/Python.framework/Versions/3.11/lib/python3.11/site-packages/upsetplot/plotting.py:795: FutureWarning: A value is trying to be set on a copy of a DataFrame or Series through chained assignment using an inplace method.\n",
      "The behavior will change in pandas 3.0. This inplace method will never work because the intermediate object on which we are setting values always behaves as a copy.\n",
      "\n",
      "For example, when doing 'df[col].method(value, inplace=True)', try using 'df.method({col: value}, inplace=True)' or df[col] = df[col].method(value) instead, to perform the operation inplace on the original object.\n",
      "\n",
      "\n",
      "  styles[\"linewidth\"].fillna(1, inplace=True)\n",
      "/Library/Frameworks/Python.framework/Versions/3.11/lib/python3.11/site-packages/upsetplot/plotting.py:796: FutureWarning: A value is trying to be set on a copy of a DataFrame or Series through chained assignment using an inplace method.\n",
      "The behavior will change in pandas 3.0. This inplace method will never work because the intermediate object on which we are setting values always behaves as a copy.\n",
      "\n",
      "For example, when doing 'df[col].method(value, inplace=True)', try using 'df.method({col: value}, inplace=True)' or df[col] = df[col].method(value) instead, to perform the operation inplace on the original object.\n",
      "\n",
      "\n",
      "  styles[\"facecolor\"].fillna(self._facecolor, inplace=True)\n",
      "/Library/Frameworks/Python.framework/Versions/3.11/lib/python3.11/site-packages/upsetplot/plotting.py:797: FutureWarning: A value is trying to be set on a copy of a DataFrame or Series through chained assignment using an inplace method.\n",
      "The behavior will change in pandas 3.0. This inplace method will never work because the intermediate object on which we are setting values always behaves as a copy.\n",
      "\n",
      "For example, when doing 'df[col].method(value, inplace=True)', try using 'df.method({col: value}, inplace=True)' or df[col] = df[col].method(value) instead, to perform the operation inplace on the original object.\n",
      "\n",
      "\n",
      "  styles[\"edgecolor\"].fillna(styles[\"facecolor\"], inplace=True)\n",
      "/Library/Frameworks/Python.framework/Versions/3.11/lib/python3.11/site-packages/upsetplot/plotting.py:798: FutureWarning: A value is trying to be set on a copy of a DataFrame or Series through chained assignment using an inplace method.\n",
      "The behavior will change in pandas 3.0. This inplace method will never work because the intermediate object on which we are setting values always behaves as a copy.\n",
      "\n",
      "For example, when doing 'df[col].method(value, inplace=True)', try using 'df.method({col: value}, inplace=True)' or df[col] = df[col].method(value) instead, to perform the operation inplace on the original object.\n",
      "\n",
      "\n",
      "  styles[\"linestyle\"].fillna(\"solid\", inplace=True)\n"
     ]
    },
    {
     "data": {
      "text/plain": [
       "{'matrix': <Axes: >,\n",
       " 'shading': <Axes: >,\n",
       " 'totals': <Axes: >,\n",
       " 'intersections': <Axes: ylabel='Intersection size'>}"
      ]
     },
     "execution_count": 19,
     "metadata": {},
     "output_type": "execute_result"
    },
    {
     "data": {
      "image/png": "[encoded data removed]",
      "text/plain": [
       "<Figure size 577.778x488.889 with 4 Axes>"
      ]
     },
     "metadata": {},
     "output_type": "display_data"
    }
   ],
   "source": [
    "set_names = ['Activity', 'Age', 'BMI', 'Cig', 'TV']\n",
    "all_elems = set_activity.union(set_age).union(set_bmi).union(set_cig).union(set_tv)\n",
    "df = pd.DataFrame([[e in set_activity, e in set_age, e in set_bmi, e in set_cig, e in set_tv] for e in all_elems], columns = set_names)\n",
    "df_up = df.groupby(set_names).size()\n",
    "plot(df_up, orientation='horizontal', show_counts=True)"
   ]
  },
  {
   "cell_type": "code",
   "execution_count": 5,
   "metadata": {},
   "outputs": [
    {
     "data": {
      "image/png": "[encoded data removed]",
      "text/plain": [
       "<Figure size 1000x600 with 1 Axes>"
      ]
     },
     "metadata": {},
     "output_type": "display_data"
    }
   ],
   "source": [
    "activity_sum_by_seqn = activity_in_embeddings.groupby('SEQN')['PAXINTEN'].sum().reset_index()\n",
    "activity_sum_by_seqn.columns = ['SEQN', 'Total_PAXINTEN']\n",
    "\n",
    "plt.figure(figsize=(10, 6))\n",
    "plt.hist(activity_sum_by_seqn['Total_PAXINTEN'], bins=30, color='blue', alpha=0.7)\n",
    "plt.title('Histogram of Total PAXINTEN')\n",
    "plt.xlabel('Total PAXINTEN')\n",
    "plt.ylabel('Frequency')\n",
    "plt.grid(axis='y', alpha=0.75)\n",
    "plt.show()"
   ]
  },
  {
   "cell_type": "code",
   "execution_count": 6,
   "metadata": {},
   "outputs": [],
   "source": [
    "tenth_percentile = activity_sum_by_seqn['Total_PAXINTEN'].quantile(0.1)\n",
    "activity_risk = activity_sum_by_seqn[activity_sum_by_seqn['Total_PAXINTEN'] <= tenth_percentile].SEQN"
   ]
  },
  {
   "cell_type": "code",
   "execution_count": 7,
   "metadata": {},
   "outputs": [
    {
     "data": {
      "text/plain": [
       "441520.0"
      ]
     },
     "execution_count": 7,
     "metadata": {},
     "output_type": "execute_result"
    }
   ],
   "source": [
    "tenth_percentile"
   ]
  },
  {
   "cell_type": "code",
   "execution_count": 19,
   "metadata": {},
   "outputs": [],
   "source": [
    "demographics = complete_age_df[['SEQN', 'RIDAGEYR']]\n",
    "bmi = complete_bmi_df[['SEQN', 'BMXBMI']]\n",
    "tv = complete_tv_df[['SEQN', 'PAD590']]"
   ]
  },
  {
   "cell_type": "code",
   "execution_count": 20,
   "metadata": {},
   "outputs": [],
   "source": [
    "data = (\n",
    "    gpt50\n",
    "    .merge(demographics, on='SEQN', how='inner')\n",
    "    .merge(bmi, on='SEQN', how='inner')\n",
    "    .merge(tv, on='SEQN', how='inner')\n",
    ")"
   ]
  },
  {
   "cell_type": "code",
   "execution_count": 35,
   "metadata": {},
   "outputs": [],
   "source": [
    "data['Activity_Risk'] = data['SEQN'].isin(activity_risk)"
   ]
  },
  {
   "cell_type": "code",
   "execution_count": 36,
   "metadata": {},
   "outputs": [],
   "source": [
    "data['BMI_Risk'] = data['BMXBMI'] > 25"
   ]
  },
  {
   "cell_type": "code",
   "execution_count": 37,
   "metadata": {},
   "outputs": [],
   "source": [
    "data['TV_Risk'] = data['PAD590'].isin([2,3,4,5])"
   ]
  },
  {
   "cell_type": "code",
   "execution_count": 39,
   "metadata": {},
   "outputs": [],
   "source": [
    "data.to_csv('/Users/rheajaisinghani/Desktop/OTC/data.csv', index=False)"
   ]
  },
  {
   "cell_type": "markdown",
   "metadata": {},
   "source": []
  },
  {
   "cell_type": "markdown",
   "metadata": {},
   "source": []
  },
  {
   "cell_type": "code",
   "execution_count": 26,
   "metadata": {},
   "outputs": [
    {
     "data": {
      "image/png": "[encoded data removed]",
      "text/plain": [
       "<Figure size 1000x600 with 1 Axes>"
      ]
     },
     "metadata": {},
     "output_type": "display_data"
    }
   ],
   "source": [
    "activity_sum_by_seqn = complete_activity_df.groupby('SEQN')['PAXINTEN'].sum().reset_index()\n",
    "activity_sum_by_seqn.columns = ['SEQN', 'Total_PAXINTEN']\n",
    "\n",
    "plt.figure(figsize=(10, 6))\n",
    "plt.hist(activity_sum_by_seqn['Total_PAXINTEN'], bins=30, color='blue', alpha=0.7)\n",
    "plt.title('Histogram of Total PAXINTEN')\n",
    "plt.xlabel('Total PAXINTEN')\n",
    "plt.ylabel('Frequency')\n",
    "plt.grid(axis='y', alpha=0.75)\n",
    "plt.show()"
   ]
  },
  {
   "cell_type": "code",
   "execution_count": 27,
   "metadata": {},
   "outputs": [],
   "source": [
    "tenth_percentile = activity_sum_by_seqn['Total_PAXINTEN'].quantile(0.1)\n",
    "acitivity_risk = activity_sum_by_seqn[activity_sum_by_seqn['Total_PAXINTEN'] <= tenth_percentile].SEQN"
   ]
  },
  {
   "cell_type": "code",
   "execution_count": 22,
   "metadata": {},
   "outputs": [],
   "source": [
    "bmi_risk = complete_bmi_df.loc[complete_bmi_df['BMXBMI'] > 25, 'SEQN']"
   ]
  },
  {
   "cell_type": "code",
   "execution_count": 23,
   "metadata": {},
   "outputs": [],
   "source": [
    "tv_risk = complete_tv_df.loc[complete_tv_df['PAD590'].isin([2,3,4,5]), 'SEQN']"
   ]
  },
  {
   "cell_type": "code",
   "execution_count": 24,
   "metadata": {},
   "outputs": [],
   "source": [
    "cig_risk = complete_cig_df.loc[complete_cig_df['SMD057'].isin(range(20,96)), 'SEQN']"
   ]
  },
  {
   "cell_type": "code",
   "execution_count": 25,
   "metadata": {},
   "outputs": [],
   "source": [
    "set_activity_risk = set(acitivity_risk)\n",
    "set_bmi_risk = set(bmi_risk)\n",
    "set_cig_risk = set(cig_risk)\n",
    "set_tv_risk = set(tv_risk)"
   ]
  },
  {
   "cell_type": "code",
   "execution_count": 26,
   "metadata": {},
   "outputs": [
    {
     "name": "stderr",
     "output_type": "stream",
     "text": [
      "/Library/Frameworks/Python.framework/Versions/3.11/lib/python3.11/site-packages/upsetplot/plotting.py:795: FutureWarning: A value is trying to be set on a copy of a DataFrame or Series through chained assignment using an inplace method.\n",
      "The behavior will change in pandas 3.0. This inplace method will never work because the intermediate object on which we are setting values always behaves as a copy.\n",
      "\n",
      "For example, when doing 'df[col].method(value, inplace=True)', try using 'df.method({col: value}, inplace=True)' or df[col] = df[col].method(value) instead, to perform the operation inplace on the original object.\n",
      "\n",
      "\n",
      "  styles[\"linewidth\"].fillna(1, inplace=True)\n",
      "/Library/Frameworks/Python.framework/Versions/3.11/lib/python3.11/site-packages/upsetplot/plotting.py:796: FutureWarning: A value is trying to be set on a copy of a DataFrame or Series through chained assignment using an inplace method.\n",
      "The behavior will change in pandas 3.0. This inplace method will never work because the intermediate object on which we are setting values always behaves as a copy.\n",
      "\n",
      "For example, when doing 'df[col].method(value, inplace=True)', try using 'df.method({col: value}, inplace=True)' or df[col] = df[col].method(value) instead, to perform the operation inplace on the original object.\n",
      "\n",
      "\n",
      "  styles[\"facecolor\"].fillna(self._facecolor, inplace=True)\n",
      "/Library/Frameworks/Python.framework/Versions/3.11/lib/python3.11/site-packages/upsetplot/plotting.py:797: FutureWarning: A value is trying to be set on a copy of a DataFrame or Series through chained assignment using an inplace method.\n",
      "The behavior will change in pandas 3.0. This inplace method will never work because the intermediate object on which we are setting values always behaves as a copy.\n",
      "\n",
      "For example, when doing 'df[col].method(value, inplace=True)', try using 'df.method({col: value}, inplace=True)' or df[col] = df[col].method(value) instead, to perform the operation inplace on the original object.\n",
      "\n",
      "\n",
      "  styles[\"edgecolor\"].fillna(styles[\"facecolor\"], inplace=True)\n",
      "/Library/Frameworks/Python.framework/Versions/3.11/lib/python3.11/site-packages/upsetplot/plotting.py:798: FutureWarning: A value is trying to be set on a copy of a DataFrame or Series through chained assignment using an inplace method.\n",
      "The behavior will change in pandas 3.0. This inplace method will never work because the intermediate object on which we are setting values always behaves as a copy.\n",
      "\n",
      "For example, when doing 'df[col].method(value, inplace=True)', try using 'df.method({col: value}, inplace=True)' or df[col] = df[col].method(value) instead, to perform the operation inplace on the original object.\n",
      "\n",
      "\n",
      "  styles[\"linestyle\"].fillna(\"solid\", inplace=True)\n"
     ]
    },
    {
     "data": {
      "text/plain": [
       "{'matrix': <Axes: >,\n",
       " 'shading': <Axes: >,\n",
       " 'totals': <Axes: >,\n",
       " 'intersections': <Axes: ylabel='Intersection size'>}"
      ]
     },
     "execution_count": 26,
     "metadata": {},
     "output_type": "execute_result"
    },
    {
     "data": {
      "image/png": "[encoded data removed]",
      "text/plain": [
       "<Figure size 933.333x444.444 with 4 Axes>"
      ]
     },
     "metadata": {},
     "output_type": "display_data"
    }
   ],
   "source": [
    "set_names = ['Activity Risk', 'BMI Risk', 'Cig Risk', 'TV Risk']\n",
    "all_elems = set_activity_risk.union(set_bmi_risk).union(set_cig_risk).union(set_tv_risk)\n",
    "df = pd.DataFrame([[e in set_activity_risk, e in set_bmi_risk, e in set_cig_risk, e in set_tv_risk] for e in all_elems], columns = set_names)\n",
    "df_up = df.groupby(set_names).size()\n",
    "plot(df_up, orientation='horizontal', show_counts=True)"
   ]
  },
  {
   "cell_type": "markdown",
   "metadata": {},
   "source": []
  },
  {
   "cell_type": "code",
   "execution_count": null,
   "metadata": {},
   "outputs": [],
   "source": []
  },
  {
   "cell_type": "code",
   "execution_count": 33,
   "metadata": {},
   "outputs": [
    {
     "data": {
      "text/plain": [
       "9424"
      ]
     },
     "execution_count": 33,
     "metadata": {},
     "output_type": "execute_result"
    }
   ],
   "source": [
    "len(pd.unique(activity_df['SEQN']))"
   ]
  },
  {
   "cell_type": "code",
   "execution_count": 34,
   "metadata": {},
   "outputs": [
    {
     "data": {
      "text/plain": [
       "7186"
      ]
     },
     "execution_count": 34,
     "metadata": {},
     "output_type": "execute_result"
    }
   ],
   "source": [
    "len(pd.unique(cig_df['SEQN']))"
   ]
  },
  {
   "cell_type": "code",
   "execution_count": 35,
   "metadata": {},
   "outputs": [
    {
     "data": {
      "text/plain": [
       "9950"
      ]
     },
     "execution_count": 35,
     "metadata": {},
     "output_type": "execute_result"
    }
   ],
   "source": [
    "len(pd.unique(bmi_df['SEQN']))"
   ]
  },
  {
   "cell_type": "code",
   "execution_count": 36,
   "metadata": {},
   "outputs": [
    {
     "data": {
      "text/plain": [
       "10348"
      ]
     },
     "execution_count": 36,
     "metadata": {},
     "output_type": "execute_result"
    }
   ],
   "source": [
    "len(pd.unique(demo_df['SEQN']))"
   ]
  },
  {
   "cell_type": "code",
   "execution_count": 37,
   "metadata": {},
   "outputs": [],
   "source": [
    "merged_df = demo_df.merge(bmi_df, on='SEQN', how='left')\\\n",
    "                  .merge(activity_df, on='SEQN', how='left')\\\n",
    "                  .merge(cig_df, on='SEQN', how='left')\n"
   ]
  },
  {
   "cell_type": "code",
   "execution_count": 38,
   "metadata": {},
   "outputs": [],
   "source": [
    "# Variables\n",
    "# PAD590: Hours watching TV\n",
    "# PAD320: Moderate activity\n",
    "# PAD200: Vigorous activity\n",
    "# SMD057: Number of cigs\n",
    "# BMXBMI: BMI\n",
    "# RIDAGEYR: Age"
   ]
  },
  {
   "cell_type": "code",
   "execution_count": 39,
   "metadata": {},
   "outputs": [],
   "source": [
    "merged_df = merged_df.rename(columns={\n",
    "    'RIDAGEYR': 'Age',\n",
    "    'BMXBMI': 'BMI',\n",
    "    'PAD590': 'TV',\n",
    "    'SMD057': 'Cigs',\n",
    "    'PAD320': 'Moderate_Activity',\n",
    "    'PAD200': 'Vigorous_Activity'})"
   ]
  },
  {
   "cell_type": "code",
   "execution_count": 40,
   "metadata": {},
   "outputs": [
    {
     "data": {
      "text/html": [
       "<div>\n",
       "<style scoped>\n",
       "    .dataframe tbody tr th:only-of-type {\n",
       "        vertical-align: middle;\n",
       "    }\n",
       "\n",
       "    .dataframe tbody tr th {\n",
       "        vertical-align: top;\n",
       "    }\n",
       "\n",
       "    .dataframe thead th {\n",
       "        text-align: right;\n",
       "    }\n",
       "</style>\n",
       "<table border=\"1\" class=\"dataframe\">\n",
       "  <thead>\n",
       "    <tr style=\"text-align: right;\">\n",
       "      <th></th>\n",
       "      <th>SEQN</th>\n",
       "      <th>Age</th>\n",
       "      <th>BMI</th>\n",
       "      <th>TV</th>\n",
       "      <th>Cigs</th>\n",
       "      <th>Moderate_Activity</th>\n",
       "      <th>Vigorous_Activity</th>\n",
       "    </tr>\n",
       "  </thead>\n",
       "  <tbody>\n",
       "    <tr>\n",
       "      <th>0</th>\n",
       "      <td>31127.0</td>\n",
       "      <td>0.0</td>\n",
       "      <td>NaN</td>\n",
       "      <td>NaN</td>\n",
       "      <td>NaN</td>\n",
       "      <td>NaN</td>\n",
       "      <td>NaN</td>\n",
       "    </tr>\n",
       "    <tr>\n",
       "      <th>1</th>\n",
       "      <td>31128.0</td>\n",
       "      <td>11.0</td>\n",
       "      <td>17.45</td>\n",
       "      <td>4.0</td>\n",
       "      <td>NaN</td>\n",
       "      <td>NaN</td>\n",
       "      <td>NaN</td>\n",
       "    </tr>\n",
       "    <tr>\n",
       "      <th>2</th>\n",
       "      <td>31129.0</td>\n",
       "      <td>15.0</td>\n",
       "      <td>26.53</td>\n",
       "      <td>3.0</td>\n",
       "      <td>NaN</td>\n",
       "      <td>1.0</td>\n",
       "      <td>1.0</td>\n",
       "    </tr>\n",
       "    <tr>\n",
       "      <th>3</th>\n",
       "      <td>31130.0</td>\n",
       "      <td>85.0</td>\n",
       "      <td>NaN</td>\n",
       "      <td>2.0</td>\n",
       "      <td>NaN</td>\n",
       "      <td>2.0</td>\n",
       "      <td>2.0</td>\n",
       "    </tr>\n",
       "    <tr>\n",
       "      <th>4</th>\n",
       "      <td>31131.0</td>\n",
       "      <td>44.0</td>\n",
       "      <td>30.90</td>\n",
       "      <td>2.0</td>\n",
       "      <td>NaN</td>\n",
       "      <td>2.0</td>\n",
       "      <td>2.0</td>\n",
       "    </tr>\n",
       "    <tr>\n",
       "      <th>...</th>\n",
       "      <td>...</td>\n",
       "      <td>...</td>\n",
       "      <td>...</td>\n",
       "      <td>...</td>\n",
       "      <td>...</td>\n",
       "      <td>...</td>\n",
       "      <td>...</td>\n",
       "    </tr>\n",
       "    <tr>\n",
       "      <th>10343</th>\n",
       "      <td>41470.0</td>\n",
       "      <td>0.0</td>\n",
       "      <td>NaN</td>\n",
       "      <td>NaN</td>\n",
       "      <td>NaN</td>\n",
       "      <td>NaN</td>\n",
       "      <td>NaN</td>\n",
       "    </tr>\n",
       "    <tr>\n",
       "      <th>10344</th>\n",
       "      <td>41471.0</td>\n",
       "      <td>12.0</td>\n",
       "      <td>18.41</td>\n",
       "      <td>3.0</td>\n",
       "      <td>NaN</td>\n",
       "      <td>1.0</td>\n",
       "      <td>1.0</td>\n",
       "    </tr>\n",
       "    <tr>\n",
       "      <th>10345</th>\n",
       "      <td>41472.0</td>\n",
       "      <td>34.0</td>\n",
       "      <td>26.23</td>\n",
       "      <td>4.0</td>\n",
       "      <td>NaN</td>\n",
       "      <td>2.0</td>\n",
       "      <td>1.0</td>\n",
       "    </tr>\n",
       "    <tr>\n",
       "      <th>10346</th>\n",
       "      <td>41473.0</td>\n",
       "      <td>21.0</td>\n",
       "      <td>26.16</td>\n",
       "      <td>1.0</td>\n",
       "      <td>NaN</td>\n",
       "      <td>2.0</td>\n",
       "      <td>1.0</td>\n",
       "    </tr>\n",
       "    <tr>\n",
       "      <th>10347</th>\n",
       "      <td>41474.0</td>\n",
       "      <td>16.0</td>\n",
       "      <td>25.08</td>\n",
       "      <td>4.0</td>\n",
       "      <td>NaN</td>\n",
       "      <td>2.0</td>\n",
       "      <td>2.0</td>\n",
       "    </tr>\n",
       "  </tbody>\n",
       "</table>\n",
       "<p>10348 rows × 7 columns</p>\n",
       "</div>"
      ],
      "text/plain": [
       "          SEQN   Age    BMI   TV  Cigs  Moderate_Activity  Vigorous_Activity\n",
       "0      31127.0   0.0    NaN  NaN   NaN                NaN                NaN\n",
       "1      31128.0  11.0  17.45  4.0   NaN                NaN                NaN\n",
       "2      31129.0  15.0  26.53  3.0   NaN                1.0                1.0\n",
       "3      31130.0  85.0    NaN  2.0   NaN                2.0                2.0\n",
       "4      31131.0  44.0  30.90  2.0   NaN                2.0                2.0\n",
       "...        ...   ...    ...  ...   ...                ...                ...\n",
       "10343  41470.0   0.0    NaN  NaN   NaN                NaN                NaN\n",
       "10344  41471.0  12.0  18.41  3.0   NaN                1.0                1.0\n",
       "10345  41472.0  34.0  26.23  4.0   NaN                2.0                1.0\n",
       "10346  41473.0  21.0  26.16  1.0   NaN                2.0                1.0\n",
       "10347  41474.0  16.0  25.08  4.0   NaN                2.0                2.0\n",
       "\n",
       "[10348 rows x 7 columns]"
      ]
     },
     "execution_count": 40,
     "metadata": {},
     "output_type": "execute_result"
    }
   ],
   "source": [
    "merged_df[['SEQN','Age','BMI','TV','Cigs','Moderate_Activity','Vigorous_Activity']]"
   ]
  },
  {
   "cell_type": "code",
   "execution_count": 41,
   "metadata": {},
   "outputs": [
    {
     "data": {
      "text/plain": [
       "0.8915732508697333"
      ]
     },
     "execution_count": 41,
     "metadata": {},
     "output_type": "execute_result"
    }
   ],
   "source": [
    "merged_df.Cigs.isnull().mean()"
   ]
  },
  {
   "cell_type": "code",
   "execution_count": 42,
   "metadata": {},
   "outputs": [
    {
     "data": {
      "text/plain": [
       "0.135195206803247"
      ]
     },
     "execution_count": 42,
     "metadata": {},
     "output_type": "execute_result"
    }
   ],
   "source": [
    "merged_df.BMI.isnull().mean()"
   ]
  },
  {
   "cell_type": "code",
   "execution_count": 43,
   "metadata": {},
   "outputs": [
    {
     "data": {
      "text/plain": [
       "0.09673366834170855"
      ]
     },
     "execution_count": 43,
     "metadata": {},
     "output_type": "execute_result"
    }
   ],
   "source": [
    "merged_df.TV.isnull().mean()"
   ]
  },
  {
   "cell_type": "code",
   "execution_count": 44,
   "metadata": {},
   "outputs": [
    {
     "data": {
      "text/plain": [
       "0.30894858909934286"
      ]
     },
     "execution_count": 44,
     "metadata": {},
     "output_type": "execute_result"
    }
   ],
   "source": [
    "merged_df.Moderate_Activity.isnull().mean()"
   ]
  },
  {
   "cell_type": "code",
   "execution_count": 45,
   "metadata": {},
   "outputs": [
    {
     "data": {
      "text/plain": [
       "0.30894858909934286"
      ]
     },
     "execution_count": 45,
     "metadata": {},
     "output_type": "execute_result"
    }
   ],
   "source": [
    "merged_df.Vigorous_Activity.isnull().mean()"
   ]
  },
  {
   "cell_type": "code",
   "execution_count": 46,
   "metadata": {},
   "outputs": [],
   "source": [
    "merged_df['Vigorous_Binary'] = (merged_df['Vigorous_Activity'] == 1).astype(int)"
   ]
  },
  {
   "cell_type": "code",
   "execution_count": 47,
   "metadata": {},
   "outputs": [],
   "source": [
    "merged_df['Moderate_Binary'] = (merged_df['Moderate_Activity'] == 1).astype(int)"
   ]
  },
  {
   "cell_type": "code",
   "execution_count": 48,
   "metadata": {},
   "outputs": [],
   "source": [
    "merged_df['TV_Binary'] = ((merged_df['TV'] >= 2) & (merged_df['TV'] <= 5)).astype(int)"
   ]
  },
  {
   "cell_type": "code",
   "execution_count": 49,
   "metadata": {},
   "outputs": [],
   "source": [
    "merged_df['BMI_Binary'] = (merged_df['BMI'] >= 30).astype(int)"
   ]
  },
  {
   "cell_type": "code",
   "execution_count": 50,
   "metadata": {},
   "outputs": [],
   "source": [
    "merged_df['Cigs_Binary'] = (merged_df['Cigs'] > 20).astype(int)"
   ]
  },
  {
   "cell_type": "code",
   "execution_count": 51,
   "metadata": {},
   "outputs": [],
   "source": [
    "merged_df['Effective_Age']  = merged_df.Age - (2*merged_df.Vigorous_Binary) - merged_df.Moderate_Binary + merged_df.TV_Binary + (3*merged_df.BMI_Binary) + (8*merged_df.Cigs_Binary)"
   ]
  },
  {
   "cell_type": "code",
   "execution_count": 52,
   "metadata": {},
   "outputs": [
    {
     "data": {
      "text/html": [
       "<div>\n",
       "<style scoped>\n",
       "    .dataframe tbody tr th:only-of-type {\n",
       "        vertical-align: middle;\n",
       "    }\n",
       "\n",
       "    .dataframe tbody tr th {\n",
       "        vertical-align: top;\n",
       "    }\n",
       "\n",
       "    .dataframe thead th {\n",
       "        text-align: right;\n",
       "    }\n",
       "</style>\n",
       "<table border=\"1\" class=\"dataframe\">\n",
       "  <thead>\n",
       "    <tr style=\"text-align: right;\">\n",
       "      <th></th>\n",
       "      <th>Age</th>\n",
       "      <th>Effective_Age</th>\n",
       "    </tr>\n",
       "  </thead>\n",
       "  <tbody>\n",
       "    <tr>\n",
       "      <th>0</th>\n",
       "      <td>0.0</td>\n",
       "      <td>0.0</td>\n",
       "    </tr>\n",
       "    <tr>\n",
       "      <th>1</th>\n",
       "      <td>11.0</td>\n",
       "      <td>12.0</td>\n",
       "    </tr>\n",
       "    <tr>\n",
       "      <th>2</th>\n",
       "      <td>15.0</td>\n",
       "      <td>13.0</td>\n",
       "    </tr>\n",
       "    <tr>\n",
       "      <th>3</th>\n",
       "      <td>85.0</td>\n",
       "      <td>86.0</td>\n",
       "    </tr>\n",
       "    <tr>\n",
       "      <th>4</th>\n",
       "      <td>44.0</td>\n",
       "      <td>48.0</td>\n",
       "    </tr>\n",
       "    <tr>\n",
       "      <th>...</th>\n",
       "      <td>...</td>\n",
       "      <td>...</td>\n",
       "    </tr>\n",
       "    <tr>\n",
       "      <th>10343</th>\n",
       "      <td>0.0</td>\n",
       "      <td>0.0</td>\n",
       "    </tr>\n",
       "    <tr>\n",
       "      <th>10344</th>\n",
       "      <td>12.0</td>\n",
       "      <td>10.0</td>\n",
       "    </tr>\n",
       "    <tr>\n",
       "      <th>10345</th>\n",
       "      <td>34.0</td>\n",
       "      <td>33.0</td>\n",
       "    </tr>\n",
       "    <tr>\n",
       "      <th>10346</th>\n",
       "      <td>21.0</td>\n",
       "      <td>19.0</td>\n",
       "    </tr>\n",
       "    <tr>\n",
       "      <th>10347</th>\n",
       "      <td>16.0</td>\n",
       "      <td>17.0</td>\n",
       "    </tr>\n",
       "  </tbody>\n",
       "</table>\n",
       "<p>10348 rows × 2 columns</p>\n",
       "</div>"
      ],
      "text/plain": [
       "        Age  Effective_Age\n",
       "0       0.0            0.0\n",
       "1      11.0           12.0\n",
       "2      15.0           13.0\n",
       "3      85.0           86.0\n",
       "4      44.0           48.0\n",
       "...     ...            ...\n",
       "10343   0.0            0.0\n",
       "10344  12.0           10.0\n",
       "10345  34.0           33.0\n",
       "10346  21.0           19.0\n",
       "10347  16.0           17.0\n",
       "\n",
       "[10348 rows x 2 columns]"
      ]
     },
     "execution_count": 52,
     "metadata": {},
     "output_type": "execute_result"
    }
   ],
   "source": [
    "merged_df[['Age', 'Effective_Age']]"
   ]
  },
  {
   "cell_type": "code",
   "execution_count": 58,
   "metadata": {},
   "outputs": [
    {
     "data": {
      "image/png": "[encoded data removed]",
      "text/plain": [
       "<Figure size 1000x600 with 1 Axes>"
      ]
     },
     "metadata": {},
     "output_type": "display_data"
    }
   ],
   "source": [
    "import seaborn as sns\n",
    "import matplotlib.pyplot as plt\n",
    "\n",
    "plt.figure(figsize=(10, 6))\n",
    "sns.scatterplot(data=merged_df, x='Age', y='Effective_Age', alpha=0.5)\n",
    "plt.plot([0, merged_df['Age'].max()], [0, merged_df['Age'].max()], 'r--', label='y=x line')\n",
    "plt.title('Chronological Age vs Effective Age')\n",
    "plt.xlabel('Chronological Age')\n",
    "plt.ylabel('Effective Age')\n",
    "plt.legend()\n",
    "plt.show()"
   ]
  },
  {
   "cell_type": "code",
   "execution_count": 59,
   "metadata": {},
   "outputs": [
    {
     "data": {
      "image/png": "[encoded data removed]",
      "text/plain": [
       "<Figure size 1000x600 with 1 Axes>"
      ]
     },
     "metadata": {},
     "output_type": "display_data"
    }
   ],
   "source": [
    "import matplotlib.pyplot as plt\n",
    "import numpy as np\n",
    "\n",
    "# Create a random 10% sample\n",
    "sample_size = int(len(merged_df) * 0.1)\n",
    "sampled_df = merged_df.sample(n=sample_size, random_state=42)  # random_state for reproducibility\n",
    "\n",
    "# Create masks for equal and different ages\n",
    "equal_ages = sampled_df['Age'] == sampled_df['Effective_Age']\n",
    "different_ages = ~equal_ages\n",
    "\n",
    "# Create the plot\n",
    "plt.figure(figsize=(10, 6))\n",
    "\n",
    "# Plot the reference line first\n",
    "plt.plot([0, merged_df['Age'].max()], [0, merged_df['Age'].max()], 'r--', label='y=x line', alpha=0.5)\n",
    "\n",
    "# Plot vertical lines connecting points to the reference line\n",
    "for _, row in sampled_df.iterrows():\n",
    "    plt.plot([row['Age'], row['Age']], [row['Age'], row['Effective_Age']], \n",
    "             color='gray', alpha=0.3, linewidth=0.5)\n",
    "\n",
    "# Plot points with different colors\n",
    "plt.scatter(sampled_df[different_ages]['Age'], \n",
    "           sampled_df[different_ages]['Effective_Age'], \n",
    "           alpha=0.6, s=40, color='blue', label='Different Ages')\n",
    "\n",
    "plt.scatter(sampled_df[equal_ages]['Age'], \n",
    "           sampled_df[equal_ages]['Effective_Age'], \n",
    "           alpha=0.6, s=40, color='green', label='Equal Ages')\n",
    "\n",
    "plt.title('Chronological Age vs Effective Age\\n(10% Random Sample)')\n",
    "plt.xlabel('Chronological Age')\n",
    "plt.ylabel('Effective Age')\n",
    "plt.legend()\n",
    "\n",
    "plt.grid(True, alpha=0.2)\n",
    "\n",
    "plt.show()"
   ]
  }
 ],
 "metadata": {
  "kernelspec": {
   "display_name": "Python 3",
   "language": "python",
   "name": "python3"
  },
  "language_info": {
   "codemirror_mode": {
    "name": "ipython",
    "version": 3
   },
   "file_extension": ".py",
   "mimetype": "text/x-python",
   "name": "python",
   "nbconvert_exporter": "python",
   "pygments_lexer": "ipython3",
   "version": "3.11.0"
  }
 },
 "nbformat": 4,
 "nbformat_minor": 2
}
